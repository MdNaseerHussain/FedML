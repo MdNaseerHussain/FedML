{
 "cells": [
  {
   "cell_type": "markdown",
   "metadata": {},
   "source": [
    "# Federated ML\n",
    "## Contents\n",
    "1. Introduction\n",
    "2. Reading an image from the dataset\n",
    "3. Loading Images and Labels\n",
    "4. Splitting training and testing data\n",
    "5. Creating clients\n",
    "6. Batching clients' and test data\n",
    "7. Creating an MLP model\n",
    "8. Optimizer, Loss function and Metrics to compile the model\n",
    "9. Utility functions for the Federated Averaging\n",
    "10. Model test function\n",
    "11. Federated Averaging Algorithm"
   ]
  },
  {
   "cell_type": "markdown",
   "metadata": {},
   "source": [
    "## Introduction\n",
    "In this notebook, we have implemented i working Federated ML model. The goal is to simulate packet losses in communication between the server and the clients in the Federated Averaging Algorithm. The function once implemented will be added to the algorithm near the TODO's in the code."
   ]
  },
  {
   "cell_type": "markdown",
   "metadata": {},
   "source": [
    "Reading an image from the dataset"
   ]
  },
  {
   "cell_type": "code",
   "execution_count": 1,
   "metadata": {},
   "outputs": [
    {
     "data": {
      "text/plain": [
       "Text(0.5, 1.0, 'Image')"
      ]
     },
     "execution_count": 1,
     "metadata": {},
     "output_type": "execute_result"
    },
    {
     "data": {
      "image/png": "[encoded data removed]",
      "text/plain": [
       "<Figure size 432x288 with 1 Axes>"
      ]
     },
     "metadata": {
      "needs_background": "light"
     },
     "output_type": "display_data"
    }
   ],
   "source": [
    "import cv2\n",
    "import matplotlib.pyplot as plt\n",
    "image = cv2.imread(\"datasets/numbers/trainingSet/0/img_1.jpg\")\n",
    "plt.imshow(image)\n",
    "plt.title(\"Image\")"
   ]
  },
  {
   "cell_type": "markdown",
   "metadata": {},
   "source": [
    "Loading Images and Labels"
   ]
  },
  {
   "cell_type": "code",
   "execution_count": 2,
   "metadata": {},
   "outputs": [
    {
     "name": "stdout",
     "output_type": "stream",
     "text": [
      "[INFO] Processed 1/10\n",
      "[INFO] Processed 2/10\n",
      "[INFO] Processed 3/10\n",
      "[INFO] Processed 4/10\n",
      "[INFO] Processed 5/10\n",
      "[INFO] Processed 6/10\n",
      "[INFO] Processed 7/10\n",
      "[INFO] Processed 8/10\n",
      "[INFO] Processed 9/10\n",
      "[INFO] Processed 10/10\n"
     ]
    }
   ],
   "source": [
    "import os\n",
    "import numpy as np\n",
    "from sklearn.preprocessing import LabelBinarizer\n",
    "dir_path = \"datasets/numbers/trainingSet/\"\n",
    "images = list()\n",
    "labels = list()\n",
    "for number in range(0, 10):\n",
    "    folder = dir_path + str(number)\n",
    "    for image_file in os.listdir(folder):\n",
    "        image_gray = cv2.imread(os.path.join(folder, image_file), cv2.IMREAD_GRAYSCALE)\n",
    "        image = np.array(image_gray).flatten()\n",
    "        images.append(image/255)\n",
    "        labels.append(number)\n",
    "    print(\"[INFO] Processed {}/{}\".format(number + 1, 10))\n",
    "lb = LabelBinarizer()\n",
    "labels = lb.fit_transform(labels)"
   ]
  },
  {
   "cell_type": "markdown",
   "metadata": {},
   "source": [
    "Splitting training and testing data"
   ]
  },
  {
   "cell_type": "code",
   "execution_count": 3,
   "metadata": {},
   "outputs": [],
   "source": [
    "from sklearn.model_selection import train_test_split\n",
    "images_train, images_test, labels_train, labels_test = train_test_split(images, labels, test_size=0.1, random_state=42)"
   ]
  },
  {
   "cell_type": "markdown",
   "metadata": {},
   "source": [
    "Creating clients"
   ]
  },
  {
   "cell_type": "code",
   "execution_count": 4,
   "metadata": {},
   "outputs": [],
   "source": [
    "import random\n",
    "num_clients = 16\n",
    "client_names = [\"client_{}\".format(i + 1) for i in range(num_clients)]\n",
    "data = list(zip(images, labels))\n",
    "random.shuffle(data)\n",
    "size = len(data)//num_clients\n",
    "data_shards = [data[i:i + size] for i in range(0, size*num_clients, size)]\n",
    "clients = {client_names[i]: data_shards[i] for i in range(num_clients)}"
   ]
  },
  {
   "cell_type": "markdown",
   "metadata": {},
   "source": [
    "Creating helper nodes"
   ]
  },
  {
   "cell_type": "code",
   "execution_count": 5,
   "metadata": {},
   "outputs": [],
   "source": [
    "import math\n",
    "num_helpers = math.ceil(math.log2(num_clients))\n",
    "error_links = 1"
   ]
  },
  {
   "cell_type": "markdown",
   "metadata": {},
   "source": [
    "Batching clients' and test data"
   ]
  },
  {
   "cell_type": "code",
   "execution_count": 6,
   "metadata": {},
   "outputs": [],
   "source": [
    "import tensorflow as tf\n",
    "batch_size = 32\n",
    "clients_batched = dict()\n",
    "for (client_name, data_shard) in clients.items():\n",
    "    data, labels = zip(*data_shard)\n",
    "    dataset = tf.data.Dataset.from_tensor_slices((list(data), list(labels)))\n",
    "    clients_batched[client_name] = dataset.shuffle(len(labels)).batch(batch_size)\n",
    "test_batched = tf.data.Dataset.from_tensor_slices((images_test, labels_test)).batch(len(labels_test))"
   ]
  },
  {
   "cell_type": "markdown",
   "metadata": {},
   "source": [
    "Creating the Multi Layer Perception (MLP) model"
   ]
  },
  {
   "cell_type": "code",
   "execution_count": 7,
   "metadata": {},
   "outputs": [],
   "source": [
    "from keras.models import Sequential\n",
    "from keras.layers import Dense, Activation\n",
    "class SimpleMLP:\n",
    "    @staticmethod\n",
    "    def build(shape, classes):\n",
    "        model = Sequential()\n",
    "        model.add(Dense(200, input_shape=(shape,)))\n",
    "        model.add(Activation(\"relu\"))\n",
    "        model.add(Dense(200))\n",
    "        model.add(Activation(\"relu\"))\n",
    "        model.add(Dense(classes))\n",
    "        model.add(Activation(\"softmax\"))\n",
    "        return model"
   ]
  },
  {
   "cell_type": "markdown",
   "metadata": {},
   "source": [
    "Optimizer, Loss function and Metrics to compile the model"
   ]
  },
  {
   "cell_type": "code",
   "execution_count": 8,
   "metadata": {},
   "outputs": [
    {
     "name": "stderr",
     "output_type": "stream",
     "text": [
      "c:\\Users\\mdnaj\\anaconda3\\lib\\site-packages\\keras\\optimizers\\optimizer_v2\\gradient_descent.py:111: UserWarning: The `lr` argument is deprecated, use `learning_rate` instead.\n",
      "  super().__init__(name, **kwargs)\n"
     ]
    }
   ],
   "source": [
    "from keras.optimizers import SGD\n",
    "lr = 0.01 \n",
    "comms_round = 100\n",
    "loss='categorical_crossentropy'\n",
    "metrics = ['accuracy']\n",
    "optimizer = SGD(lr=lr, decay=lr/comms_round, momentum=0.9)"
   ]
  },
  {
   "cell_type": "markdown",
   "metadata": {},
   "source": [
    "Utility functions for the Federated Averaging"
   ]
  },
  {
   "cell_type": "code",
   "execution_count": 9,
   "metadata": {},
   "outputs": [],
   "source": [
    "def weight_scaling_factor(clients_trn_data, client_name):\n",
    "    client_names = list(clients_trn_data.keys())\n",
    "    bs = list(clients_trn_data[client_name])[0][0].shape[0]\n",
    "    global_count = sum([tf.data.experimental.cardinality(clients_trn_data[client_name]).numpy() for client_name in client_names])*bs\n",
    "    local_count = tf.data.experimental.cardinality(clients_trn_data[client_name]).numpy()*bs\n",
    "    return local_count/global_count\n",
    "\n",
    "\n",
    "def scale_model_weights(weight, scalar):\n",
    "    weight_final = []\n",
    "    steps = len(weight)\n",
    "    for i in range(steps):\n",
    "        weight_final.append(scalar * weight[i])\n",
    "    return weight_final\n",
    "\n",
    "def sum_scaled_weights(scaled_weight_list):\n",
    "    avg_grad = list()\n",
    "    for grad_list_tuple in zip(*scaled_weight_list):\n",
    "        layer_mean = tf.math.reduce_sum(grad_list_tuple, axis=0)\n",
    "        avg_grad.append(layer_mean)\n",
    "    return avg_grad"
   ]
  },
  {
   "cell_type": "markdown",
   "metadata": {},
   "source": [
    "Functions to fetch and set shape of model weights"
   ]
  },
  {
   "cell_type": "code",
   "execution_count": 10,
   "metadata": {},
   "outputs": [],
   "source": [
    "def get_shape(weights):\n",
    "    shapes = [i.shape for i in weights]\n",
    "    return shapes\n",
    "\n",
    "def flatten_model_weights(weights):\n",
    "    flattened_weights = np.concatenate([i.flatten() for i in weights])\n",
    "    return flattened_weights\n",
    "\n",
    "def restore_model_shape(flattened_weights, shapes):\n",
    "    weights = []\n",
    "    index = 0\n",
    "    for shape in shapes:\n",
    "        size = np.product(shape)\n",
    "        arr = np.array(flattened_weights[index : index + size])\n",
    "        weights.append(arr.reshape(shape))\n",
    "        index += size\n",
    "    return weights"
   ]
  },
  {
   "cell_type": "markdown",
   "metadata": {},
   "source": [
    "Modulation and Demodulation Functions for Communication"
   ]
  },
  {
   "cell_type": "code",
   "execution_count": 11,
   "metadata": {},
   "outputs": [],
   "source": [
    "from bitstring import BitArray\n",
    "import random\n",
    "\n",
    "def modulation(weights):\n",
    "    weights = flatten_model_weights(weights)\n",
    "    packets = []\n",
    "    for i in range(len(weights)):\n",
    "        packet = BitArray(float=weights[i], length=32)\n",
    "        packets.append(packet.bin)\n",
    "    return packets\n",
    "\n",
    "def demodulation(packets, packet_loss_prob, model_shape):\n",
    "    weights = packets\n",
    "    for i in range(len(packets)):\n",
    "        if random.random() < packet_loss_prob:\n",
    "            weights[i] = 0\n",
    "    return restore_model_shape(weights, model_shape)"
   ]
  },
  {
   "cell_type": "markdown",
   "metadata": {},
   "source": [
    "Transmission from Client to Helper and Helper to Master"
   ]
  },
  {
   "cell_type": "code",
   "execution_count": 12,
   "metadata": {},
   "outputs": [],
   "source": [
    "scaled_weights = []\n",
    "comm_matrix = []\n",
    "\n",
    "def masterReceiver(helpersData):\n",
    "    g1 = helpersData[0]\n",
    "    g2 = helpersData[1]\n",
    "    g3 = helpersData[2]\n",
    "    g4 = helpersData[3]\n",
    "    # print(len(g1))\n",
    "    # print(len(g2))\n",
    "    # print(len(g3))\n",
    "    # print(len(g4))\n",
    "    if g1 == 'X':\n",
    "        g1 = [0]*len(g2)\n",
    "        for i in range(len(g2)):\n",
    "            # print(i)\n",
    "            a = g1[i]\n",
    "            b = g2[i]\n",
    "            c = g3[i]\n",
    "            d = g4[i]\n",
    "            g1[i] = g4[i] - g2[i] - g3[i]\n",
    "    if g2 == 'X':\n",
    "        g2 = [0]*len(g1)\n",
    "        for i in range(len(g1)):\n",
    "            # print(i)\n",
    "            a = g1[i]\n",
    "            b = g2[i]\n",
    "            c = g3[i]\n",
    "            d = g4[i]\n",
    "            g2[i] = g4[i] - g1[i] - g3[i]\n",
    "    if g3 == 'X':\n",
    "        g3 = [0]*len(g4)\n",
    "        for i in range(len(g4)):\n",
    "            if i < len(g1):\n",
    "                # print(i)\n",
    "                a = g1[i]\n",
    "                b = g2[i]\n",
    "                c = g3[i]\n",
    "                d = g4[i]\n",
    "                g3[i] = g4[i] - g1[i] - g2[i]\n",
    "            else:\n",
    "                g3[i] = g4[i]\n",
    "    g = g1 + g2 + g3    \n",
    "    scaled_weights.append(g)\n",
    "\n",
    "def create_comm_matrix(num_clients, num_helpers):\n",
    "    scaled_weights.clear()\n",
    "    comm_matrix.clear()\n",
    "    for i in range(num_clients):\n",
    "        comm_matrix.append([])\n",
    "        for j in range(num_helpers):\n",
    "            comm_matrix[i].append(0)\n",
    "            comm_matrix[i][j] = 'XX'\n",
    "    return comm_matrix\n",
    "\n",
    "def transmissionCH(bitWeights, comm_matrix, client):\n",
    "    g1 = bitWeights[:len(bitWeights)//3]\n",
    "    g2 = bitWeights[len(bitWeights)//3:2*len(bitWeights)//3]\n",
    "    g3 = bitWeights[2*len(bitWeights)//3:]\n",
    "    g4 = []\n",
    "    for i in range(len(g3)):\n",
    "        w1 = 0\n",
    "        if i < len(g1):\n",
    "            w1 = BitArray(bin=g1[i]).float\n",
    "        w2 = 0\n",
    "        if i < len(g2):\n",
    "            w2 = BitArray(bin=g2[i]).float\n",
    "        w3 = BitArray(bin=g3[i]).float\n",
    "        w4 = w1 + w2 + w3\n",
    "        g4.append(BitArray(float=w4, length=32).bin)\n",
    "    g1 = ''.join(g1)\n",
    "    g2 = ''.join(g2)\n",
    "    g3 = ''.join(g3)\n",
    "    g4 = ''.join(g4)\n",
    "    comm_matrix[client][0] = g1\n",
    "    comm_matrix[client][1] = g2\n",
    "    comm_matrix[client][2] = g3\n",
    "    comm_matrix[client][3] = g4\n",
    "    failed_link = random.randint(0, 3)\n",
    "    if failed_link == 0:\n",
    "        comm_matrix[client][0] = 'X'*len(g1)\n",
    "    if failed_link == 1:\n",
    "        comm_matrix[client][1] = 'X'*len(g2)\n",
    "    if failed_link == 2:\n",
    "        comm_matrix[client][2] = 'X'*len(g3)\n",
    "    if failed_link == 3:\n",
    "        comm_matrix[client][3] = 'X'*len(g4)\n",
    "\n",
    "def transmissionHM(comm_matrix):\n",
    "    comm_links = {}\n",
    "    for i in range(len(comm_matrix)):\n",
    "        mask = ''\n",
    "        for j in range(len(comm_matrix[i])):\n",
    "            if comm_matrix[i][j][0] != 'X':\n",
    "                mask += '1'\n",
    "            else:\n",
    "                mask += '0'\n",
    "        if mask in comm_links:\n",
    "            comm_links[mask].append(i)\n",
    "        else:\n",
    "            comm_links[mask] = [i]\n",
    "    for mask in comm_links:\n",
    "        summed_g1 = [0]*(len(comm_matrix[0][0])//32)\n",
    "        summed_g2 = [0]*(len(comm_matrix[0][1])//32)\n",
    "        summed_g3 = [0]*(len(comm_matrix[0][2])//32)\n",
    "        summed_g4 = [0]*(len(comm_matrix[0][3])//32)\n",
    "        for i in range(len(mask)):\n",
    "            if mask[i] == '1':\n",
    "                for client in comm_links[mask]:\n",
    "                    if i == 0:\n",
    "                        g1 = [0]*(len(comm_matrix[client][i])//32)\n",
    "                        for j in range(0, len(comm_matrix[client][i]), 32):\n",
    "                            g1[j//32] = BitArray(bin=comm_matrix[client][i][j:j+32]).float\n",
    "                        for j in range(len(g1)):\n",
    "                            summed_g1[j] += g1[j]\n",
    "                    elif i == 1:\n",
    "                        g2 = [0]*(len(comm_matrix[client][i])//32)\n",
    "                        for j in range(0, len(comm_matrix[client][i]), 32):\n",
    "                            g2[j//32] = BitArray(bin=comm_matrix[client][i][j: j+32]).float\n",
    "                        for j in range(len(g2)):\n",
    "                            summed_g2[j] += g2[j]\n",
    "                    elif i == 2:\n",
    "                        g3 = [0]*(len(comm_matrix[client][i])//32)\n",
    "                        for j in range(0, len(comm_matrix[client][i]), 32):\n",
    "                            g3[j//32] = BitArray(bin=comm_matrix[client][i][j: j+32]).float\n",
    "                        for j in range(len(g3)):\n",
    "                            summed_g3[j] += g3[j]\n",
    "                    else:\n",
    "                        g4 = [0]*(len(comm_matrix[client][i])//32)\n",
    "                        for j in range(0, len(comm_matrix[client][i]), 32):\n",
    "                            g4[j//32] = BitArray(bin=comm_matrix[client][i][j: j+32]).float\n",
    "                        for j in range(len(g4)):\n",
    "                            summed_g4[j] += g4[j]\n",
    "        for i in range(len(mask)):\n",
    "            if mask[i] == '0':\n",
    "                if i == 0:\n",
    "                    summed_g1 = 'X'\n",
    "                elif i == 1:\n",
    "                    summed_g2 = 'X'\n",
    "                elif i == 2:\n",
    "                    summed_g3 = 'X'\n",
    "                else:\n",
    "                    summed_g4 = 'X'\n",
    "        masterReceiver([summed_g1, summed_g2, summed_g3, summed_g4])\n",
    "    return scaled_weights"
   ]
  },
  {
   "cell_type": "markdown",
   "metadata": {},
   "source": [
    "Model test function"
   ]
  },
  {
   "cell_type": "code",
   "execution_count": 13,
   "metadata": {},
   "outputs": [],
   "source": [
    "from keras.losses import CategoricalCrossentropy\n",
    "from sklearn.metrics import accuracy_score\n",
    "def test_model(X_test, Y_test,  model, comm_round):\n",
    "    cce = CategoricalCrossentropy(from_logits=True)\n",
    "    logits = model.predict(X_test)\n",
    "    loss = cce(Y_test, logits)\n",
    "    acc = accuracy_score(tf.argmax(logits, axis=1), tf.argmax(Y_test, axis=1))\n",
    "    print('comm_round: {} | global_acc: {:.3%} | global_loss: {}'.format(comm_round+1, acc, loss))\n",
    "    return acc, loss"
   ]
  },
  {
   "cell_type": "markdown",
   "metadata": {},
   "source": [
    "Federated Averaging Algorithm"
   ]
  },
  {
   "cell_type": "code",
   "execution_count": 14,
   "metadata": {},
   "outputs": [],
   "source": [
    "from keras import backend as K\n",
    "def fedML(packet_loss_prob=0):\n",
    "    smlp_global = SimpleMLP()\n",
    "    global_model = smlp_global.build(784, 10)\n",
    "    model_shape = get_shape(global_model.get_weights())\n",
    "    accuracy = []\n",
    "    for comm_round in range(comms_round):\n",
    "        global_weights = global_model.get_weights()\n",
    "        client_names= list(clients_batched.keys())\n",
    "        comm_matrix = create_comm_matrix(num_clients, num_helpers)\n",
    "        random.shuffle(client_names)\n",
    "        for client_number, client in enumerate(client_names):\n",
    "            smlp_local = SimpleMLP()\n",
    "            local_model = smlp_local.build(784, 10)\n",
    "            local_model.compile(loss=loss, optimizer=optimizer, metrics=metrics)\n",
    "            local_model.set_weights(global_weights)\n",
    "            local_model.fit(clients_batched[client], epochs=1, verbose=0)\n",
    "            scaling_factor = weight_scaling_factor(clients_batched, client)\n",
    "            scaled_weights = scale_model_weights(local_model.get_weights(), scaling_factor)\n",
    "            bitWeights = modulation(scaled_weights)\n",
    "            transmissionCH(bitWeights, comm_matrix, client_number)\n",
    "            K.clear_session()\n",
    "        scaled_weights_list = transmissionHM(comm_matrix)\n",
    "        global_weights = sum_scaled_weights(scaled_weights_list)\n",
    "        global_weights = demodulation(global_weights, packet_loss_prob, model_shape)\n",
    "        global_model.set_weights(global_weights)\n",
    "        for(X_test, Y_test) in test_batched:\n",
    "            global_acc, _ = test_model(X_test, Y_test, global_model, comm_round)\n",
    "            accuracy.append(global_acc)\n",
    "    return accuracy"
   ]
  },
  {
   "cell_type": "code",
   "execution_count": 15,
   "metadata": {},
   "outputs": [
    {
     "name": "stdout",
     "output_type": "stream",
     "text": [
      "132/132 [==============================] - 1s 5ms/step\n",
      "comm_round: 1 | global_acc: 86.762% | global_loss: 1.7234885692596436\n",
      "132/132 [==============================] - 1s 4ms/step\n",
      "comm_round: 2 | global_acc: 89.595% | global_loss: 1.645039439201355\n",
      "132/132 [==============================] - 1s 8ms/step\n",
      "comm_round: 3 | global_acc: 90.667% | global_loss: 1.6185513734817505\n",
      "132/132 [==============================] - 0s 3ms/step\n",
      "comm_round: 4 | global_acc: 91.643% | global_loss: 1.603496789932251\n",
      "132/132 [==============================] - 1s 4ms/step\n",
      "comm_round: 5 | global_acc: 92.357% | global_loss: 1.5925780534744263\n",
      "132/132 [==============================] - 0s 3ms/step\n",
      "comm_round: 6 | global_acc: 92.452% | global_loss: 1.586013913154602\n",
      "132/132 [==============================] - 0s 3ms/step\n",
      "comm_round: 7 | global_acc: 93.143% | global_loss: 1.5793708562850952\n",
      "132/132 [==============================] - 1s 5ms/step\n",
      "comm_round: 8 | global_acc: 93.357% | global_loss: 1.5751214027404785\n",
      "132/132 [==============================] - 1s 5ms/step\n",
      "comm_round: 9 | global_acc: 93.619% | global_loss: 1.571144700050354\n",
      "132/132 [==============================] - 1s 5ms/step\n",
      "comm_round: 10 | global_acc: 93.929% | global_loss: 1.5669077634811401\n",
      "132/132 [==============================] - 1s 4ms/step\n",
      "comm_round: 11 | global_acc: 94.000% | global_loss: 1.5642826557159424\n",
      "132/132 [==============================] - 1s 3ms/step\n",
      "comm_round: 12 | global_acc: 94.214% | global_loss: 1.561029076576233\n",
      "132/132 [==============================] - 1s 4ms/step\n",
      "comm_round: 13 | global_acc: 94.476% | global_loss: 1.5592925548553467\n",
      "132/132 [==============================] - 1s 4ms/step\n",
      "comm_round: 14 | global_acc: 94.667% | global_loss: 1.5563511848449707\n",
      "132/132 [==============================] - 1s 4ms/step\n",
      "comm_round: 15 | global_acc: 94.881% | global_loss: 1.5541843175888062\n",
      "132/132 [==============================] - 1s 7ms/step\n",
      "comm_round: 16 | global_acc: 94.905% | global_loss: 1.5526893138885498\n",
      "132/132 [==============================] - 1s 5ms/step\n",
      "comm_round: 17 | global_acc: 95.000% | global_loss: 1.5511733293533325\n",
      "132/132 [==============================] - 1s 5ms/step\n",
      "comm_round: 18 | global_acc: 95.095% | global_loss: 1.549267053604126\n",
      "132/132 [==============================] - 1s 5ms/step\n",
      "comm_round: 19 | global_acc: 95.143% | global_loss: 1.5480561256408691\n",
      "132/132 [==============================] - 1s 5ms/step\n",
      "comm_round: 20 | global_acc: 95.381% | global_loss: 1.54645836353302\n",
      "132/132 [==============================] - 1s 4ms/step\n",
      "comm_round: 21 | global_acc: 95.262% | global_loss: 1.5450471639633179\n",
      "132/132 [==============================] - 1s 6ms/step\n",
      "comm_round: 22 | global_acc: 95.333% | global_loss: 1.5437419414520264\n",
      "132/132 [==============================] - 1s 4ms/step\n",
      "comm_round: 23 | global_acc: 95.381% | global_loss: 1.5427848100662231\n",
      "132/132 [==============================] - 1s 4ms/step\n",
      "comm_round: 24 | global_acc: 95.381% | global_loss: 1.5422344207763672\n",
      "132/132 [==============================] - 1s 4ms/step\n",
      "comm_round: 25 | global_acc: 95.548% | global_loss: 1.5410836935043335\n",
      "132/132 [==============================] - 1s 4ms/step\n",
      "comm_round: 26 | global_acc: 95.548% | global_loss: 1.539749026298523\n",
      "132/132 [==============================] - 1s 4ms/step\n",
      "comm_round: 27 | global_acc: 95.667% | global_loss: 1.538988471031189\n",
      "132/132 [==============================] - 1s 4ms/step\n",
      "comm_round: 28 | global_acc: 95.786% | global_loss: 1.5384465456008911\n",
      "132/132 [==============================] - 1s 5ms/step\n",
      "comm_round: 29 | global_acc: 95.762% | global_loss: 1.5374915599822998\n",
      "132/132 [==============================] - 1s 4ms/step\n",
      "comm_round: 30 | global_acc: 95.857% | global_loss: 1.5364322662353516\n",
      "132/132 [==============================] - 1s 4ms/step\n",
      "comm_round: 31 | global_acc: 95.881% | global_loss: 1.535738229751587\n",
      "132/132 [==============================] - 1s 4ms/step\n",
      "comm_round: 32 | global_acc: 95.857% | global_loss: 1.5353050231933594\n",
      "132/132 [==============================] - 1s 4ms/step\n",
      "comm_round: 33 | global_acc: 96.000% | global_loss: 1.5343533754348755\n",
      "132/132 [==============================] - 1s 4ms/step\n",
      "comm_round: 34 | global_acc: 95.952% | global_loss: 1.533610224723816\n",
      "132/132 [==============================] - 1s 4ms/step\n",
      "comm_round: 35 | global_acc: 96.071% | global_loss: 1.533409833908081\n",
      "132/132 [==============================] - 1s 4ms/step\n",
      "comm_round: 36 | global_acc: 95.976% | global_loss: 1.5327948331832886\n",
      "132/132 [==============================] - 1s 4ms/step\n",
      "comm_round: 37 | global_acc: 96.095% | global_loss: 1.5321035385131836\n",
      "132/132 [==============================] - 1s 4ms/step\n",
      "comm_round: 38 | global_acc: 96.119% | global_loss: 1.5316450595855713\n",
      "132/132 [==============================] - 1s 4ms/step\n",
      "comm_round: 39 | global_acc: 96.143% | global_loss: 1.5308916568756104\n",
      "132/132 [==============================] - 1s 5ms/step\n",
      "comm_round: 40 | global_acc: 96.167% | global_loss: 1.5304948091506958\n",
      "132/132 [==============================] - 0s 3ms/step\n",
      "comm_round: 41 | global_acc: 96.119% | global_loss: 1.5300761461257935\n",
      "132/132 [==============================] - 0s 3ms/step\n",
      "comm_round: 42 | global_acc: 96.190% | global_loss: 1.5294487476348877\n",
      "132/132 [==============================] - 1s 4ms/step\n",
      "comm_round: 43 | global_acc: 96.333% | global_loss: 1.528983473777771\n",
      "132/132 [==============================] - 1s 3ms/step\n",
      "comm_round: 44 | global_acc: 96.357% | global_loss: 1.5286064147949219\n",
      "132/132 [==============================] - 1s 5ms/step\n",
      "comm_round: 45 | global_acc: 96.333% | global_loss: 1.528292179107666\n",
      "132/132 [==============================] - 1s 6ms/step\n",
      "comm_round: 46 | global_acc: 96.333% | global_loss: 1.5276341438293457\n",
      "132/132 [==============================] - 1s 6ms/step\n",
      "comm_round: 47 | global_acc: 96.381% | global_loss: 1.5272961854934692\n",
      "132/132 [==============================] - 2s 12ms/step\n",
      "comm_round: 48 | global_acc: 96.381% | global_loss: 1.5270956754684448\n",
      "132/132 [==============================] - 3s 18ms/step\n",
      "comm_round: 49 | global_acc: 96.452% | global_loss: 1.5266860723495483\n",
      "132/132 [==============================] - 2s 11ms/step\n",
      "comm_round: 50 | global_acc: 96.476% | global_loss: 1.526249885559082\n",
      "132/132 [==============================] - 2s 14ms/step\n",
      "comm_round: 51 | global_acc: 96.476% | global_loss: 1.5258363485336304\n",
      "132/132 [==============================] - 2s 12ms/step\n",
      "comm_round: 52 | global_acc: 96.500% | global_loss: 1.5255934000015259\n",
      "132/132 [==============================] - 2s 17ms/step\n",
      "comm_round: 53 | global_acc: 96.571% | global_loss: 1.525161623954773\n",
      "132/132 [==============================] - 1s 6ms/step\n",
      "comm_round: 54 | global_acc: 96.595% | global_loss: 1.5250152349472046\n",
      "132/132 [==============================] - 1s 4ms/step\n",
      "comm_round: 55 | global_acc: 96.619% | global_loss: 1.52455472946167\n",
      "132/132 [==============================] - 0s 3ms/step\n",
      "comm_round: 56 | global_acc: 96.595% | global_loss: 1.5243922472000122\n",
      "132/132 [==============================] - 1s 4ms/step\n",
      "comm_round: 57 | global_acc: 96.714% | global_loss: 1.523878574371338\n",
      "132/132 [==============================] - 0s 3ms/step\n",
      "comm_round: 58 | global_acc: 96.690% | global_loss: 1.523589015007019\n",
      "132/132 [==============================] - 0s 3ms/step\n",
      "comm_round: 59 | global_acc: 96.714% | global_loss: 1.523242712020874\n",
      "132/132 [==============================] - 0s 3ms/step\n",
      "comm_round: 60 | global_acc: 96.619% | global_loss: 1.5232865810394287\n",
      "132/132 [==============================] - 0s 3ms/step\n",
      "comm_round: 61 | global_acc: 96.762% | global_loss: 1.5228190422058105\n",
      "132/132 [==============================] - 0s 3ms/step\n",
      "comm_round: 62 | global_acc: 96.810% | global_loss: 1.5223755836486816\n",
      "132/132 [==============================] - 0s 3ms/step\n",
      "comm_round: 63 | global_acc: 96.857% | global_loss: 1.5222927331924438\n",
      "132/132 [==============================] - 0s 3ms/step\n",
      "comm_round: 64 | global_acc: 96.810% | global_loss: 1.5220961570739746\n",
      "132/132 [==============================] - 0s 3ms/step\n",
      "comm_round: 65 | global_acc: 96.905% | global_loss: 1.5216515064239502\n",
      "132/132 [==============================] - 1s 4ms/step\n",
      "comm_round: 66 | global_acc: 96.810% | global_loss: 1.521561622619629\n",
      "132/132 [==============================] - 0s 3ms/step\n",
      "comm_round: 67 | global_acc: 96.857% | global_loss: 1.5211883783340454\n",
      "132/132 [==============================] - 0s 3ms/step\n",
      "comm_round: 68 | global_acc: 96.881% | global_loss: 1.5211952924728394\n",
      "132/132 [==============================] - 0s 3ms/step\n",
      "comm_round: 69 | global_acc: 96.857% | global_loss: 1.5207326412200928\n",
      "132/132 [==============================] - 0s 3ms/step\n",
      "comm_round: 70 | global_acc: 96.857% | global_loss: 1.5206304788589478\n",
      "132/132 [==============================] - 0s 3ms/step\n",
      "comm_round: 71 | global_acc: 96.881% | global_loss: 1.5203851461410522\n",
      "132/132 [==============================] - 0s 3ms/step\n",
      "comm_round: 72 | global_acc: 97.071% | global_loss: 1.520175814628601\n",
      "132/132 [==============================] - 1s 3ms/step\n",
      "comm_round: 73 | global_acc: 97.000% | global_loss: 1.5199601650238037\n",
      "132/132 [==============================] - 0s 3ms/step\n",
      "comm_round: 74 | global_acc: 97.024% | global_loss: 1.519773006439209\n",
      "132/132 [==============================] - 1s 3ms/step\n",
      "comm_round: 75 | global_acc: 97.119% | global_loss: 1.5194180011749268\n",
      "132/132 [==============================] - 0s 3ms/step\n",
      "comm_round: 76 | global_acc: 96.905% | global_loss: 1.5192869901657104\n",
      "132/132 [==============================] - 0s 3ms/step\n",
      "comm_round: 77 | global_acc: 96.952% | global_loss: 1.519123911857605\n",
      "132/132 [==============================] - 0s 3ms/step\n",
      "comm_round: 78 | global_acc: 97.000% | global_loss: 1.518932580947876\n",
      "132/132 [==============================] - 1s 3ms/step\n",
      "comm_round: 79 | global_acc: 97.000% | global_loss: 1.518855333328247\n",
      "132/132 [==============================] - 0s 3ms/step\n",
      "comm_round: 80 | global_acc: 96.952% | global_loss: 1.518549919128418\n",
      "132/132 [==============================] - 0s 3ms/step\n",
      "comm_round: 81 | global_acc: 97.024% | global_loss: 1.5183249711990356\n",
      "132/132 [==============================] - 1s 3ms/step\n",
      "comm_round: 82 | global_acc: 96.976% | global_loss: 1.5182379484176636\n",
      "132/132 [==============================] - 0s 3ms/step\n",
      "comm_round: 83 | global_acc: 97.143% | global_loss: 1.5180588960647583\n",
      "132/132 [==============================] - 1s 4ms/step\n",
      "comm_round: 84 | global_acc: 97.071% | global_loss: 1.5177927017211914\n",
      "132/132 [==============================] - 1s 3ms/step\n",
      "comm_round: 85 | global_acc: 97.048% | global_loss: 1.5177052021026611\n",
      "132/132 [==============================] - 1s 3ms/step\n",
      "comm_round: 86 | global_acc: 97.143% | global_loss: 1.517439365386963\n",
      "132/132 [==============================] - 1s 4ms/step\n",
      "comm_round: 87 | global_acc: 97.048% | global_loss: 1.5172955989837646\n",
      "132/132 [==============================] - 1s 4ms/step\n",
      "comm_round: 88 | global_acc: 97.119% | global_loss: 1.5171388387680054\n",
      "132/132 [==============================] - 1s 4ms/step\n",
      "comm_round: 89 | global_acc: 97.095% | global_loss: 1.5170844793319702\n",
      "132/132 [==============================] - 1s 4ms/step\n",
      "comm_round: 90 | global_acc: 97.190% | global_loss: 1.516788125038147\n",
      "132/132 [==============================] - 1s 4ms/step\n",
      "comm_round: 91 | global_acc: 97.119% | global_loss: 1.5167032480239868\n",
      "132/132 [==============================] - 1s 4ms/step\n",
      "comm_round: 92 | global_acc: 97.167% | global_loss: 1.5165083408355713\n",
      "132/132 [==============================] - 1s 4ms/step\n",
      "comm_round: 93 | global_acc: 97.214% | global_loss: 1.5163637399673462\n",
      "132/132 [==============================] - 1s 4ms/step\n",
      "comm_round: 94 | global_acc: 97.143% | global_loss: 1.5162591934204102\n",
      "132/132 [==============================] - 1s 4ms/step\n",
      "comm_round: 95 | global_acc: 97.238% | global_loss: 1.5160746574401855\n",
      "132/132 [==============================] - 1s 4ms/step\n",
      "comm_round: 96 | global_acc: 97.143% | global_loss: 1.5159237384796143\n",
      "132/132 [==============================] - 1s 4ms/step\n",
      "comm_round: 97 | global_acc: 97.238% | global_loss: 1.5157727003097534\n",
      "132/132 [==============================] - 1s 4ms/step\n",
      "comm_round: 98 | global_acc: 97.190% | global_loss: 1.5157318115234375\n",
      "132/132 [==============================] - 1s 4ms/step\n",
      "comm_round: 99 | global_acc: 97.143% | global_loss: 1.5156222581863403\n",
      "132/132 [==============================] - 1s 4ms/step\n",
      "comm_round: 100 | global_acc: 97.262% | global_loss: 1.5153708457946777\n"
     ]
    }
   ],
   "source": [
    "accuracies = fedML()"
   ]
  },
  {
   "cell_type": "code",
   "execution_count": 20,
   "metadata": {},
   "outputs": [
    {
     "data": {
      "text/plain": [
       "Text(0, 0.5, 'Accuracy')"
      ]
     },
     "execution_count": 20,
     "metadata": {},
     "output_type": "execute_result"
    },
    {
     "data": {
      "image/png": "[encoded data removed]",
      "text/plain": [
       "<Figure size 432x288 with 1 Axes>"
      ]
     },
     "metadata": {
      "needs_background": "light"
     },
     "output_type": "display_data"
    }
   ],
   "source": [
    "x_axis = []\n",
    "for i in range(100):\n",
    "    x_axis.append(i+1)\n",
    "plt.plot(x_axis, accuracies, color=\"blue\")\n",
    "plt.xlabel(\"Training round\")\n",
    "plt.ylabel(\"Accuracy\")"
   ]
  }
 ],
 "metadata": {
  "kernelspec": {
   "display_name": "Python 3.9.12 ('base')",
   "language": "python",
   "name": "python3"
  },
  "language_info": {
   "codemirror_mode": {
    "name": "ipython",
    "version": 3
   },
   "file_extension": ".py",
   "mimetype": "text/x-python",
   "name": "python",
   "nbconvert_exporter": "python",
   "pygments_lexer": "ipython3",
   "version": "3.9.12"
  },
  "orig_nbformat": 4,
  "vscode": {
   "interpreter": {
    "hash": "b7c783bdd1001b55fab5c22007d050c844afa9d766f14df437f43c40fd2b4e70"
   }
  }
 },
 "nbformat": 4,
 "nbformat_minor": 2
}
