{
 "cells": [
  {
   "cell_type": "markdown",
   "metadata": {},
   "source": [
    "# Federated ML\n",
    "## Contents\n",
    "1. Introduction\n",
    "1. Reading an image from the dataset\n",
    "1. Loading Images and Labels\n",
    "1. Splitting training and testing data\n",
    "1. Creating clients\n",
    "1. Creating helper nodes\n",
    "1. Batching clients' and test data\n",
    "1. Creating an MLP model\n",
    "1. Optimizer, Loss function and Metrics to compile the model\n",
    "1. Utility functions for the Federated Averaging\n",
    "1. Functions to fetch and set shape of model weights\n",
    "1. Modulation and Demodulation functions for Communication\n",
    "1. Transmission functions from Client to Helper and Helper to Master\n",
    "1. Model test function\n",
    "1. Federated Averaging Algorithm"
   ]
  },
  {
   "attachments": {},
   "cell_type": "markdown",
   "metadata": {},
   "source": [
    "## Introduction\n",
    "In this notebook, we have implemented a working Federated ML model. The goal is to simulate packet losses in communication between the server and the clients in the Federated Averaging Algorithm. The function once implemented will be added to the algorithm near the TODO's in the code."
   ]
  },
  {
   "cell_type": "markdown",
   "metadata": {},
   "source": [
    "Reading an image from the dataset"
   ]
  },
  {
   "cell_type": "code",
   "execution_count": 138,
   "metadata": {},
   "outputs": [
    {
     "data": {
      "text/plain": [
       "Text(0.5, 1.0, 'Image')"
      ]
     },
     "execution_count": 138,
     "metadata": {},
     "output_type": "execute_result"
    },
    {
     "data": {
      "image/png": "[encoded data removed]",
      "text/plain": [
       "<Figure size 432x288 with 1 Axes>"
      ]
     },
     "metadata": {
      "needs_background": "light"
     },
     "output_type": "display_data"
    }
   ],
   "source": [
    "import cv2\n",
    "import matplotlib.pyplot as plt\n",
    "image = cv2.imread(\"datasets/numbers/trainingSet/0/img_1.jpg\")\n",
    "plt.imshow(image)\n",
    "plt.title(\"Image\")"
   ]
  },
  {
   "cell_type": "markdown",
   "metadata": {},
   "source": [
    "Loading Images and Labels"
   ]
  },
  {
   "cell_type": "code",
   "execution_count": 139,
   "metadata": {},
   "outputs": [
    {
     "name": "stdout",
     "output_type": "stream",
     "text": [
      "[INFO] Processed 1/10\n",
      "[INFO] Processed 2/10\n",
      "[INFO] Processed 3/10\n",
      "[INFO] Processed 4/10\n",
      "[INFO] Processed 5/10\n",
      "[INFO] Processed 6/10\n",
      "[INFO] Processed 7/10\n",
      "[INFO] Processed 8/10\n",
      "[INFO] Processed 9/10\n",
      "[INFO] Processed 10/10\n"
     ]
    }
   ],
   "source": [
    "import os\n",
    "import numpy as np\n",
    "from sklearn.preprocessing import LabelBinarizer\n",
    "dir_path = \"datasets/numbers/trainingSet/\"\n",
    "images = list()\n",
    "labels = list()\n",
    "for number in range(0, 10):\n",
    "    folder = dir_path + str(number)\n",
    "    for image_file in os.listdir(folder):\n",
    "        image_gray = cv2.imread(os.path.join(folder, image_file), cv2.IMREAD_GRAYSCALE)\n",
    "        image = np.array(image_gray).flatten()\n",
    "        images.append(image/255)\n",
    "        labels.append(number)\n",
    "    print(\"[INFO] Processed {}/{}\".format(number + 1, 10))\n",
    "lb = LabelBinarizer()\n",
    "labels = lb.fit_transform(labels)"
   ]
  },
  {
   "cell_type": "markdown",
   "metadata": {},
   "source": [
    "Splitting training and testing data"
   ]
  },
  {
   "cell_type": "code",
   "execution_count": 140,
   "metadata": {},
   "outputs": [],
   "source": [
    "from sklearn.model_selection import train_test_split\n",
    "images_train, images_test, labels_train, labels_test = train_test_split(images, labels, test_size=0.1, random_state=42)"
   ]
  },
  {
   "cell_type": "markdown",
   "metadata": {},
   "source": [
    "Creating clients"
   ]
  },
  {
   "cell_type": "code",
   "execution_count": 141,
   "metadata": {},
   "outputs": [],
   "source": [
    "import random\n",
    "num_clients = 16\n",
    "client_names = [\"client_{}\".format(i + 1) for i in range(num_clients)]\n",
    "data = list(zip(images, labels))\n",
    "random.shuffle(data)\n",
    "size = len(data)//num_clients\n",
    "data_shards = [data[i:i + size] for i in range(0, size*num_clients, size)]\n",
    "clients = {client_names[i]: data_shards[i] for i in range(num_clients)}"
   ]
  },
  {
   "cell_type": "markdown",
   "metadata": {},
   "source": [
    "Creating helper nodes"
   ]
  },
  {
   "cell_type": "code",
   "execution_count": 142,
   "metadata": {},
   "outputs": [],
   "source": [
    "import math\n",
    "num_helpers = math.ceil(math.log2(num_clients))"
   ]
  },
  {
   "cell_type": "markdown",
   "metadata": {},
   "source": [
    "Batching clients' and test data"
   ]
  },
  {
   "cell_type": "code",
   "execution_count": 143,
   "metadata": {},
   "outputs": [],
   "source": [
    "import tensorflow as tf\n",
    "batch_size = 32\n",
    "clients_batched = dict()\n",
    "for (client_name, data_shard) in clients.items():\n",
    "    data, labels = zip(*data_shard)\n",
    "    dataset = tf.data.Dataset.from_tensor_slices((list(data), list(labels)))\n",
    "    clients_batched[client_name] = dataset.shuffle(len(labels)).batch(batch_size)\n",
    "test_batched = tf.data.Dataset.from_tensor_slices((images_test, labels_test)).batch(len(labels_test))"
   ]
  },
  {
   "cell_type": "markdown",
   "metadata": {},
   "source": [
    "Creating the Multi Layer Perception (MLP) model"
   ]
  },
  {
   "cell_type": "code",
   "execution_count": 144,
   "metadata": {},
   "outputs": [],
   "source": [
    "from keras.models import Sequential\n",
    "from keras.layers import Dense, Activation\n",
    "class SimpleMLP:\n",
    "    @staticmethod\n",
    "    def build(shape, classes):\n",
    "        model = Sequential()\n",
    "        model.add(Dense(200, input_shape=(shape,)))\n",
    "        model.add(Activation(\"relu\"))\n",
    "        model.add(Dense(200))\n",
    "        model.add(Activation(\"relu\"))\n",
    "        model.add(Dense(classes))\n",
    "        model.add(Activation(\"softmax\"))\n",
    "        return model"
   ]
  },
  {
   "cell_type": "markdown",
   "metadata": {},
   "source": [
    "Optimizer, Loss function and Metrics to compile the model"
   ]
  },
  {
   "cell_type": "code",
   "execution_count": null,
   "metadata": {},
   "outputs": [],
   "source": [
    "from keras.optimizers import SGD\n",
    "lr = 0.01 \n",
    "comms_round = 100\n",
    "loss='categorical_crossentropy'\n",
    "metrics = ['accuracy']\n",
    "optimizer = SGD(lr=lr, decay=lr/comms_round, momentum=0.9)"
   ]
  },
  {
   "cell_type": "markdown",
   "metadata": {},
   "source": [
    "Utility functions for the Federated Averaging"
   ]
  },
  {
   "cell_type": "code",
   "execution_count": 146,
   "metadata": {},
   "outputs": [],
   "source": [
    "def weight_scaling_factor(clients_trn_data, client_name):\n",
    "    client_names = list(clients_trn_data.keys())\n",
    "    bs = list(clients_trn_data[client_name])[0][0].shape[0]\n",
    "    global_count = sum([tf.data.experimental.cardinality(clients_trn_data[client_name]).numpy() for client_name in client_names])*bs\n",
    "    local_count = tf.data.experimental.cardinality(clients_trn_data[client_name]).numpy()*bs\n",
    "    return local_count/global_count\n",
    "\n",
    "def scale_model_weights(weight, scalar):\n",
    "    weight_final = []\n",
    "    steps = len(weight)\n",
    "    for i in range(steps):\n",
    "        weight_final.append(scalar * weight[i])\n",
    "    return weight_final\n",
    "\n",
    "def sum_scaled_weights(scaled_weight_list):\n",
    "    avg_grad = list()\n",
    "    for grad_list_tuple in zip(*scaled_weight_list):\n",
    "        layer_mean = tf.math.reduce_sum(grad_list_tuple, axis=0)\n",
    "        avg_grad.append(layer_mean)\n",
    "    return avg_grad"
   ]
  },
  {
   "cell_type": "markdown",
   "metadata": {},
   "source": [
    "Functions to fetch and set shape of model weights"
   ]
  },
  {
   "cell_type": "code",
   "execution_count": 147,
   "metadata": {},
   "outputs": [],
   "source": [
    "def get_shape(weights):\n",
    "    shapes = [i.shape for i in weights]\n",
    "    return shapes\n",
    "\n",
    "def flatten_model_weights(weights):\n",
    "    flattened_weights = np.concatenate([i.flatten() for i in weights])\n",
    "    return flattened_weights\n",
    "\n",
    "def restore_model_shape(flattened_weights, shapes):\n",
    "    weights = []\n",
    "    index = 0\n",
    "    for shape in shapes:\n",
    "        size = np.product(shape)\n",
    "        arr = np.array(flattened_weights[index : index + size])\n",
    "        weights.append(arr.reshape(shape))\n",
    "        index += size\n",
    "    return weights"
   ]
  },
  {
   "cell_type": "markdown",
   "metadata": {},
   "source": [
    "Modulation and Demodulation Functions for Communication"
   ]
  },
  {
   "cell_type": "code",
   "execution_count": 148,
   "metadata": {},
   "outputs": [],
   "source": [
    "from bitstring import BitArray\n",
    "import random\n",
    "\n",
    "def modulation(weights):\n",
    "    weights = flatten_model_weights(weights)\n",
    "    packets = []\n",
    "    for i in range(len(weights)):\n",
    "        packet = BitArray(float=weights[i], length=32)\n",
    "        packets.append(packet.bin)\n",
    "    return packets\n",
    "\n",
    "def demodulation(weights, model_shape):\n",
    "    return restore_model_shape(weights, model_shape)"
   ]
  },
  {
   "cell_type": "markdown",
   "metadata": {},
   "source": [
    "Transmission functions from Client to Helper and Helper to Master"
   ]
  },
  {
   "cell_type": "code",
   "execution_count": 149,
   "metadata": {},
   "outputs": [],
   "source": [
    "scaled_weights_list = []\n",
    "comm_matrix = []\n",
    "\n",
    "def masterReceiver(helpersData):\n",
    "    g1 = helpersData[0]\n",
    "    g2 = helpersData[1]\n",
    "    g3 = helpersData[2]\n",
    "    g4 = helpersData[3]\n",
    "    if g1 == 'X':\n",
    "        g1 = [0]*len(g2)\n",
    "        for i in range(len(g2)):\n",
    "            g1[i] = g4[i] - g2[i] - g3[i]\n",
    "    if g2 == 'X':\n",
    "        g2 = [0]*len(g1)\n",
    "        for i in range(len(g1)):\n",
    "            g2[i] = g4[i] - g1[i] - g3[i]\n",
    "    if g3 == 'X':\n",
    "        g3 = [0]*len(g4)\n",
    "        for i in range(len(g4)):\n",
    "            if i < len(g1):\n",
    "                g3[i] = g4[i] - g1[i] - g2[i]\n",
    "            else:\n",
    "                g3[i] = g4[i]\n",
    "    g = g1 + g2 + g3    \n",
    "    scaled_weights_list.append(g)\n",
    "\n",
    "def create_comm_matrix(num_clients, num_helpers):\n",
    "    scaled_weights_list.clear()\n",
    "    comm_matrix.clear()\n",
    "    for i in range(num_clients):\n",
    "        comm_matrix.append([])\n",
    "        for j in range(num_helpers):\n",
    "            comm_matrix[i].append(0)\n",
    "            comm_matrix[i][j] = 'XX'\n",
    "    return comm_matrix\n",
    "\n",
    "def transmissionCH(bitWeights, comm_matrix, client, packet_loss_prob):\n",
    "    g1 = bitWeights[:len(bitWeights)//3]\n",
    "    g2 = bitWeights[len(bitWeights)//3:2*len(bitWeights)//3]\n",
    "    g3 = bitWeights[2*len(bitWeights)//3:]\n",
    "    g4 = []\n",
    "    for i in range(len(g3)):\n",
    "        w1 = 0\n",
    "        if i < len(g1):\n",
    "            w1 = BitArray(bin=g1[i]).float\n",
    "        w2 = 0\n",
    "        if i < len(g2):\n",
    "            w2 = BitArray(bin=g2[i]).float\n",
    "        w3 = BitArray(bin=g3[i]).float\n",
    "        w4 = w1 + w2 + w3\n",
    "        g4.append(BitArray(float=w4, length=32).bin)\n",
    "    g1 = ''.join(g1)\n",
    "    g2 = ''.join(g2)\n",
    "    g3 = ''.join(g3)\n",
    "    g4 = ''.join(g4)\n",
    "    comm_matrix[client][0] = g1\n",
    "    comm_matrix[client][1] = g2\n",
    "    comm_matrix[client][2] = g3\n",
    "    comm_matrix[client][3] = g4\n",
    "    if random.random() < packet_loss_prob:\n",
    "        comm_matrix[client][0] = 'X'*len(g1)\n",
    "    if random.random() < packet_loss_prob:\n",
    "        comm_matrix[client][1] = 'X'*len(g2)\n",
    "    if random.random() < packet_loss_prob:\n",
    "        comm_matrix[client][2] = 'X'*len(g3)\n",
    "    if random.random() < packet_loss_prob:\n",
    "        comm_matrix[client][3] = 'X'*len(g4)\n",
    "\n",
    "def transmissionHM(comm_matrix):\n",
    "    comm_links = {}\n",
    "    lost_clients = 0\n",
    "    for i in range(len(comm_matrix)):\n",
    "        mask = ''\n",
    "        for j in range(len(comm_matrix[i])):\n",
    "            if comm_matrix[i][j][0] != 'X':\n",
    "                mask += '1'\n",
    "            else:\n",
    "                mask += '0'\n",
    "        if mask in comm_links:\n",
    "            comm_links[mask].append(i)\n",
    "        else:\n",
    "            comm_links[mask] = [i]\n",
    "    for mask in comm_links:\n",
    "        summed_g1 = [0]*(len(comm_matrix[0][0])//32)\n",
    "        summed_g2 = [0]*(len(comm_matrix[0][1])//32)\n",
    "        summed_g3 = [0]*(len(comm_matrix[0][2])//32)\n",
    "        summed_g4 = [0]*(len(comm_matrix[0][3])//32)\n",
    "        for i in range(len(mask)):\n",
    "            if mask[i] == '1':\n",
    "                for client in comm_links[mask]:\n",
    "                    if i == 0:\n",
    "                        g1 = [0]*(len(comm_matrix[client][i])//32)\n",
    "                        for j in range(0, len(comm_matrix[client][i]), 32):\n",
    "                            g1[j//32] = BitArray(bin=comm_matrix[client][i][j:j+32]).float\n",
    "                        for j in range(len(g1)):\n",
    "                            summed_g1[j] += g1[j]\n",
    "                    elif i == 1:\n",
    "                        g2 = [0]*(len(comm_matrix[client][i])//32)\n",
    "                        for j in range(0, len(comm_matrix[client][i]), 32):\n",
    "                            g2[j//32] = BitArray(bin=comm_matrix[client][i][j: j+32]).float\n",
    "                        for j in range(len(g2)):\n",
    "                            summed_g2[j] += g2[j]\n",
    "                    elif i == 2:\n",
    "                        g3 = [0]*(len(comm_matrix[client][i])//32)\n",
    "                        for j in range(0, len(comm_matrix[client][i]), 32):\n",
    "                            g3[j//32] = BitArray(bin=comm_matrix[client][i][j: j+32]).float\n",
    "                        for j in range(len(g3)):\n",
    "                            summed_g3[j] += g3[j]\n",
    "                    else:\n",
    "                        g4 = [0]*(len(comm_matrix[client][i])//32)\n",
    "                        for j in range(0, len(comm_matrix[client][i]), 32):\n",
    "                            g4[j//32] = BitArray(bin=comm_matrix[client][i][j: j+32]).float\n",
    "                        for j in range(len(g4)):\n",
    "                            summed_g4[j] += g4[j]\n",
    "        X_cnt = 0\n",
    "        for i in range(len(mask)):\n",
    "            if mask[i] == '0':\n",
    "                X_cnt += 1\n",
    "                if i == 0:\n",
    "                    summed_g1 = 'X'\n",
    "                elif i == 1:\n",
    "                    summed_g2 = 'X'\n",
    "                elif i == 2:\n",
    "                    summed_g3 = 'X'\n",
    "                else:\n",
    "                    summed_g4 = 'X'\n",
    "        if X_cnt > 1:\n",
    "            lost_clients += len(comm_links[mask])\n",
    "        else:\n",
    "            masterReceiver([summed_g1, summed_g2, summed_g3, summed_g4])\n",
    "    return [scaled_weights_list, lost_clients]"
   ]
  },
  {
   "cell_type": "markdown",
   "metadata": {},
   "source": [
    "Model test function"
   ]
  },
  {
   "cell_type": "code",
   "execution_count": 150,
   "metadata": {},
   "outputs": [],
   "source": [
    "from keras.losses import CategoricalCrossentropy\n",
    "from sklearn.metrics import accuracy_score\n",
    "def test_model(X_test, Y_test,  model, comm_round):\n",
    "    cce = CategoricalCrossentropy(from_logits=True)\n",
    "    logits = model.predict(X_test)\n",
    "    loss = cce(Y_test, logits)\n",
    "    acc = accuracy_score(tf.argmax(logits, axis=1), tf.argmax(Y_test, axis=1))\n",
    "    print('comm_round: {} | global_acc: {:.3%} | global_loss: {}'.format(comm_round+1, acc, loss))\n",
    "    return acc, loss"
   ]
  },
  {
   "cell_type": "markdown",
   "metadata": {},
   "source": [
    "Federated Averaging Algorithm"
   ]
  },
  {
   "cell_type": "code",
   "execution_count": 151,
   "metadata": {},
   "outputs": [],
   "source": [
    "from keras import backend as K\n",
    "def fedML(packet_loss_prob=0):\n",
    "    smlp_global = SimpleMLP()\n",
    "    global_model = smlp_global.build(784, 10)\n",
    "    model_shape = get_shape(global_model.get_weights())\n",
    "    accuracy = []\n",
    "    for comm_round in range(comms_round):\n",
    "        global_weights = global_model.get_weights()\n",
    "        client_names= list(clients_batched.keys())\n",
    "        comm_matrix = create_comm_matrix(num_clients, num_helpers)\n",
    "        random.shuffle(client_names)\n",
    "        for client_number, client in enumerate(client_names):\n",
    "            smlp_local = SimpleMLP()\n",
    "            local_model = smlp_local.build(784, 10)\n",
    "            local_model.compile(loss=loss, optimizer=optimizer, metrics=metrics)\n",
    "            local_model.set_weights(global_weights)\n",
    "            local_model.fit(clients_batched[client], epochs=1, verbose=0)\n",
    "            scaling_factor = weight_scaling_factor(clients_batched, client)\n",
    "            scaled_weights = scale_model_weights(local_model.get_weights(), scaling_factor)\n",
    "            bitWeights = modulation(scaled_weights)\n",
    "            transmissionCH(bitWeights, comm_matrix, client_number, packet_loss_prob)\n",
    "            K.clear_session()\n",
    "        scaled_weights_list, lost_clients = transmissionHM(comm_matrix)\n",
    "        if lost_clients != 0:\n",
    "            compensated_lost_weights = scale_model_weights(global_weights, lost_clients*weight_scaling_factor(clients_batched, 'client_1'))\n",
    "            packets = modulation(compensated_lost_weights)\n",
    "            weights = packets\n",
    "            for i in range(len(packets)):\n",
    "                weights[i] = BitArray(bin=packets[i]).float\n",
    "            scaled_weights_list.append(weights)\n",
    "        global_weights = sum_scaled_weights(scaled_weights_list)\n",
    "        global_weights = demodulation(global_weights, model_shape)\n",
    "        global_model.set_weights(global_weights)\n",
    "        for(X_test, Y_test) in test_batched:\n",
    "            global_acc, _ = test_model(X_test, Y_test, global_model, comm_round)\n",
    "            accuracy.append(global_acc)\n",
    "    return accuracy"
   ]
  },
  {
   "cell_type": "code",
   "execution_count": null,
   "metadata": {},
   "outputs": [],
   "source": [
    "accuracies0 = fedML(0)\n",
    "accuracies10 = fedML(0.1)\n",
    "accuracies25 = fedML(0.25)\n",
    "accuracies50 = fedML(0.5)"
   ]
  },
  {
   "cell_type": "code",
   "execution_count": 156,
   "metadata": {},
   "outputs": [
    {
     "data": {
      "image/png": "[encoded data removed]",
      "text/plain": [
       "<Figure size 432x288 with 1 Axes>"
      ]
     },
     "metadata": {
      "needs_background": "light"
     },
     "output_type": "display_data"
    }
   ],
   "source": [
    "import pandas as pd\n",
    "\n",
    "accuracies0 = pd.read_csv('output/mds/acc0.csv')\n",
    "accuracies10 = pd.read_csv('output/mds/acc10.csv')\n",
    "accuracies25 = pd.read_csv('output/mds/acc25.csv')\n",
    "accuracies50 = pd.read_csv('output/mds/acc50.csv')\n",
    "\n",
    "plt.plot(accuracies0, color=\"blue\")\n",
    "plt.plot(accuracies10, color=\"red\")\n",
    "plt.plot(accuracies25, color=\"green\")\n",
    "plt.plot(accuracies50, color=\"orange\")\n",
    "plt.xlabel(\"Training round\")\n",
    "plt.ylabel(\"Accuracy\")\n",
    "plt.legend([\"0%\", \"10%\", \"25%\", \"50%\"])\n",
    "plt.show()"
   ]
  }
 ],
 "metadata": {
  "kernelspec": {
   "display_name": "Python 3",
   "language": "python",
   "name": "python3"
  },
  "language_info": {
   "codemirror_mode": {
    "name": "ipython",
    "version": 3
   },
   "file_extension": ".py",
   "mimetype": "text/x-python",
   "name": "python",
   "nbconvert_exporter": "python",
   "pygments_lexer": "ipython3",
   "version": "3.10.10"
  },
  "orig_nbformat": 4,
  "vscode": {
   "interpreter": {
    "hash": "a35bf13b97148589d342a45d495f7a518789f6a66d3c54eecac9b61e53c58857"
   }
  }
 },
 "nbformat": 4,
 "nbformat_minor": 2
}
