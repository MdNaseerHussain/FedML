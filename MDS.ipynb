{
 "cells": [
  {
   "cell_type": "markdown",
   "metadata": {},
   "source": [
    "# Federated ML\n",
    "## Contents\n",
    "1. Introduction\n",
    "1. Reading an image from the dataset\n",
    "1. Loading Images and Labels\n",
    "1. Splitting training and testing data\n",
    "1. Creating clients\n",
    "1. Creating helper nodes\n",
    "1. Batching clients' and test data\n",
    "1. Creating an MLP model\n",
    "1. Optimizer, Loss function and Metrics to compile the model\n",
    "1. Utility functions for the Federated Averaging\n",
    "1. Functions to fetch and set shape of model weights\n",
    "1. Modulation and Demodulation functions for Communication\n",
    "1. Transmission functions from Client to Helper and Helper to Master\n",
    "1. Model test function\n",
    "1. Federated Averaging Algorithm"
   ]
  },
  {
   "cell_type": "markdown",
   "metadata": {},
   "source": [
    "## Introduction\n",
    "In this notebook, we have implemented i working Federated ML model. The goal is to simulate packet losses in communication between the server and the clients in the Federated Averaging Algorithm. The function once implemented will be added to the algorithm near the TODO's in the code."
   ]
  },
  {
   "cell_type": "markdown",
   "metadata": {},
   "source": [
    "Reading an image from the dataset"
   ]
  },
  {
   "cell_type": "code",
   "execution_count": 121,
   "metadata": {},
   "outputs": [
    {
     "data": {
      "text/plain": [
       "Text(0.5, 1.0, 'Image')"
      ]
     },
     "execution_count": 121,
     "metadata": {},
     "output_type": "execute_result"
    },
    {
     "data": {
      "image/png": "[encoded data removed]",
      "text/plain": [
       "<Figure size 432x288 with 1 Axes>"
      ]
     },
     "metadata": {
      "needs_background": "light"
     },
     "output_type": "display_data"
    }
   ],
   "source": [
    "import cv2\n",
    "import matplotlib.pyplot as plt\n",
    "image = cv2.imread(\"datasets/numbers/trainingSet/0/img_1.jpg\")\n",
    "plt.imshow(image)\n",
    "plt.title(\"Image\")"
   ]
  },
  {
   "cell_type": "markdown",
   "metadata": {},
   "source": [
    "Loading Images and Labels"
   ]
  },
  {
   "cell_type": "code",
   "execution_count": 122,
   "metadata": {},
   "outputs": [
    {
     "name": "stdout",
     "output_type": "stream",
     "text": [
      "[INFO] Processed 1/10\n",
      "[INFO] Processed 2/10\n",
      "[INFO] Processed 3/10\n",
      "[INFO] Processed 4/10\n",
      "[INFO] Processed 5/10\n",
      "[INFO] Processed 6/10\n",
      "[INFO] Processed 7/10\n",
      "[INFO] Processed 8/10\n",
      "[INFO] Processed 9/10\n",
      "[INFO] Processed 10/10\n"
     ]
    }
   ],
   "source": [
    "import os\n",
    "import numpy as np\n",
    "from sklearn.preprocessing import LabelBinarizer\n",
    "dir_path = \"datasets/numbers/trainingSet/\"\n",
    "images = list()\n",
    "labels = list()\n",
    "for number in range(0, 10):\n",
    "    folder = dir_path + str(number)\n",
    "    for image_file in os.listdir(folder):\n",
    "        image_gray = cv2.imread(os.path.join(folder, image_file), cv2.IMREAD_GRAYSCALE)\n",
    "        image = np.array(image_gray).flatten()\n",
    "        images.append(image/255)\n",
    "        labels.append(number)\n",
    "    print(\"[INFO] Processed {}/{}\".format(number + 1, 10))\n",
    "lb = LabelBinarizer()\n",
    "labels = lb.fit_transform(labels)"
   ]
  },
  {
   "cell_type": "markdown",
   "metadata": {},
   "source": [
    "Splitting training and testing data"
   ]
  },
  {
   "cell_type": "code",
   "execution_count": 123,
   "metadata": {},
   "outputs": [],
   "source": [
    "from sklearn.model_selection import train_test_split\n",
    "images_train, images_test, labels_train, labels_test = train_test_split(images, labels, test_size=0.1, random_state=42)"
   ]
  },
  {
   "cell_type": "markdown",
   "metadata": {},
   "source": [
    "Creating clients"
   ]
  },
  {
   "cell_type": "code",
   "execution_count": 124,
   "metadata": {},
   "outputs": [],
   "source": [
    "import random\n",
    "num_clients = 16\n",
    "client_names = [\"client_{}\".format(i + 1) for i in range(num_clients)]\n",
    "data = list(zip(images, labels))\n",
    "random.shuffle(data)\n",
    "size = len(data)//num_clients\n",
    "data_shards = [data[i:i + size] for i in range(0, size*num_clients, size)]\n",
    "clients = {client_names[i]: data_shards[i] for i in range(num_clients)}"
   ]
  },
  {
   "cell_type": "markdown",
   "metadata": {},
   "source": [
    "Creating helper nodes"
   ]
  },
  {
   "cell_type": "code",
   "execution_count": 125,
   "metadata": {},
   "outputs": [],
   "source": [
    "import math\n",
    "num_helpers = math.ceil(math.log2(num_clients))\n",
    "error_links = 1"
   ]
  },
  {
   "cell_type": "markdown",
   "metadata": {},
   "source": [
    "Batching clients' and test data"
   ]
  },
  {
   "cell_type": "code",
   "execution_count": 126,
   "metadata": {},
   "outputs": [],
   "source": [
    "import tensorflow as tf\n",
    "batch_size = 32\n",
    "clients_batched = dict()\n",
    "for (client_name, data_shard) in clients.items():\n",
    "    data, labels = zip(*data_shard)\n",
    "    dataset = tf.data.Dataset.from_tensor_slices((list(data), list(labels)))\n",
    "    clients_batched[client_name] = dataset.shuffle(len(labels)).batch(batch_size)\n",
    "test_batched = tf.data.Dataset.from_tensor_slices((images_test, labels_test)).batch(len(labels_test))"
   ]
  },
  {
   "cell_type": "markdown",
   "metadata": {},
   "source": [
    "Creating the Multi Layer Perception (MLP) model"
   ]
  },
  {
   "cell_type": "code",
   "execution_count": 127,
   "metadata": {},
   "outputs": [],
   "source": [
    "from keras.models import Sequential\n",
    "from keras.layers import Dense, Activation\n",
    "class SimpleMLP:\n",
    "    @staticmethod\n",
    "    def build(shape, classes):\n",
    "        model = Sequential()\n",
    "        model.add(Dense(200, input_shape=(shape,)))\n",
    "        model.add(Activation(\"relu\"))\n",
    "        model.add(Dense(200))\n",
    "        model.add(Activation(\"relu\"))\n",
    "        model.add(Dense(classes))\n",
    "        model.add(Activation(\"softmax\"))\n",
    "        return model"
   ]
  },
  {
   "cell_type": "markdown",
   "metadata": {},
   "source": [
    "Optimizer, Loss function and Metrics to compile the model"
   ]
  },
  {
   "cell_type": "code",
   "execution_count": 128,
   "metadata": {},
   "outputs": [
    {
     "name": "stderr",
     "output_type": "stream",
     "text": [
      "c:\\Users\\mdnaj\\anaconda3\\lib\\site-packages\\keras\\optimizers\\optimizer_v2\\gradient_descent.py:111: UserWarning: The `lr` argument is deprecated, use `learning_rate` instead.\n",
      "  super().__init__(name, **kwargs)\n"
     ]
    }
   ],
   "source": [
    "from keras.optimizers import SGD\n",
    "lr = 0.01 \n",
    "comms_round = 100\n",
    "loss='categorical_crossentropy'\n",
    "metrics = ['accuracy']\n",
    "optimizer = SGD(lr=lr, decay=lr/comms_round, momentum=0.9)"
   ]
  },
  {
   "cell_type": "markdown",
   "metadata": {},
   "source": [
    "Utility functions for the Federated Averaging"
   ]
  },
  {
   "cell_type": "code",
   "execution_count": 129,
   "metadata": {},
   "outputs": [],
   "source": [
    "def weight_scaling_factor(clients_trn_data, client_name):\n",
    "    client_names = list(clients_trn_data.keys())\n",
    "    bs = list(clients_trn_data[client_name])[0][0].shape[0]\n",
    "    global_count = sum([tf.data.experimental.cardinality(clients_trn_data[client_name]).numpy() for client_name in client_names])*bs\n",
    "    local_count = tf.data.experimental.cardinality(clients_trn_data[client_name]).numpy()*bs\n",
    "    return local_count/global_count\n",
    "\n",
    "\n",
    "def scale_model_weights(weight, scalar):\n",
    "    weight_final = []\n",
    "    steps = len(weight)\n",
    "    for i in range(steps):\n",
    "        weight_final.append(scalar * weight[i])\n",
    "    return weight_final\n",
    "\n",
    "def sum_scaled_weights(scaled_weight_list):\n",
    "    avg_grad = list()\n",
    "    for grad_list_tuple in zip(*scaled_weight_list):\n",
    "        layer_mean = tf.math.reduce_sum(grad_list_tuple, axis=0)\n",
    "        avg_grad.append(layer_mean)\n",
    "    return avg_grad"
   ]
  },
  {
   "cell_type": "markdown",
   "metadata": {},
   "source": [
    "Functions to fetch and set shape of model weights"
   ]
  },
  {
   "cell_type": "code",
   "execution_count": 130,
   "metadata": {},
   "outputs": [],
   "source": [
    "def get_shape(weights):\n",
    "    shapes = [i.shape for i in weights]\n",
    "    return shapes\n",
    "\n",
    "def flatten_model_weights(weights):\n",
    "    flattened_weights = np.concatenate([i.flatten() for i in weights])\n",
    "    return flattened_weights\n",
    "\n",
    "def restore_model_shape(flattened_weights, shapes):\n",
    "    weights = []\n",
    "    index = 0\n",
    "    for shape in shapes:\n",
    "        size = np.product(shape)\n",
    "        arr = np.array(flattened_weights[index : index + size])\n",
    "        weights.append(arr.reshape(shape))\n",
    "        index += size\n",
    "    return weights"
   ]
  },
  {
   "cell_type": "markdown",
   "metadata": {},
   "source": [
    "Modulation and Demodulation Functions for Communication"
   ]
  },
  {
   "cell_type": "code",
   "execution_count": 131,
   "metadata": {},
   "outputs": [],
   "source": [
    "from bitstring import BitArray\n",
    "import random\n",
    "\n",
    "def modulation(weights):\n",
    "    weights = flatten_model_weights(weights)\n",
    "    packets = []\n",
    "    for i in range(len(weights)):\n",
    "        packet = BitArray(float=weights[i], length=32)\n",
    "        packets.append(packet.bin)\n",
    "    return packets\n",
    "\n",
    "def demodulation(weights, model_shape):\n",
    "    return restore_model_shape(weights, model_shape)"
   ]
  },
  {
   "cell_type": "markdown",
   "metadata": {},
   "source": [
    "Transmission functions from Client to Helper and Helper to Master"
   ]
  },
  {
   "cell_type": "code",
   "execution_count": 132,
   "metadata": {},
   "outputs": [],
   "source": [
    "scaled_weights_list = []\n",
    "comm_matrix = []\n",
    "\n",
    "def masterReceiver(helpersData):\n",
    "    g1 = helpersData[0]\n",
    "    g2 = helpersData[1]\n",
    "    g3 = helpersData[2]\n",
    "    g4 = helpersData[3]\n",
    "    if g1 == 'X':\n",
    "        g1 = [0]*len(g2)\n",
    "        for i in range(len(g2)):\n",
    "            g1[i] = g4[i] - g2[i] - g3[i]\n",
    "    if g2 == 'X':\n",
    "        g2 = [0]*len(g1)\n",
    "        for i in range(len(g1)):\n",
    "            g2[i] = g4[i] - g1[i] - g3[i]\n",
    "    if g3 == 'X':\n",
    "        g3 = [0]*len(g4)\n",
    "        for i in range(len(g4)):\n",
    "            if i < len(g1):\n",
    "                g3[i] = g4[i] - g1[i] - g2[i]\n",
    "            else:\n",
    "                g3[i] = g4[i]\n",
    "    g = g1 + g2 + g3    \n",
    "    scaled_weights_list.append(g)\n",
    "\n",
    "def create_comm_matrix(num_clients, num_helpers):\n",
    "    scaled_weights_list.clear()\n",
    "    comm_matrix.clear()\n",
    "    for i in range(num_clients):\n",
    "        comm_matrix.append([])\n",
    "        for j in range(num_helpers):\n",
    "            comm_matrix[i].append(0)\n",
    "            comm_matrix[i][j] = 'XX'\n",
    "    return comm_matrix\n",
    "\n",
    "def transmissionCH(bitWeights, comm_matrix, client, packet_loss_prob):\n",
    "    g1 = bitWeights[:len(bitWeights)//3]\n",
    "    g2 = bitWeights[len(bitWeights)//3:2*len(bitWeights)//3]\n",
    "    g3 = bitWeights[2*len(bitWeights)//3:]\n",
    "    g4 = []\n",
    "    for i in range(len(g3)):\n",
    "        w1 = 0\n",
    "        if i < len(g1):\n",
    "            w1 = BitArray(bin=g1[i]).float\n",
    "        w2 = 0\n",
    "        if i < len(g2):\n",
    "            w2 = BitArray(bin=g2[i]).float\n",
    "        w3 = BitArray(bin=g3[i]).float\n",
    "        w4 = w1 + w2 + w3\n",
    "        g4.append(BitArray(float=w4, length=32).bin)\n",
    "    g1 = ''.join(g1)\n",
    "    g2 = ''.join(g2)\n",
    "    g3 = ''.join(g3)\n",
    "    g4 = ''.join(g4)\n",
    "    comm_matrix[client][0] = g1\n",
    "    comm_matrix[client][1] = g2\n",
    "    comm_matrix[client][2] = g3\n",
    "    comm_matrix[client][3] = g4\n",
    "    if random.random() < packet_loss_prob:\n",
    "        comm_matrix[client][0] = 'X'*len(g1)\n",
    "    if random.random() < packet_loss_prob:\n",
    "        comm_matrix[client][1] = 'X'*len(g2)\n",
    "    if random.random() < packet_loss_prob:\n",
    "        comm_matrix[client][2] = 'X'*len(g3)\n",
    "    if random.random() < packet_loss_prob:\n",
    "        comm_matrix[client][3] = 'X'*len(g4)\n",
    "\n",
    "def transmissionHM(comm_matrix):\n",
    "    comm_links = {}\n",
    "    lost_clients = 0\n",
    "    for i in range(len(comm_matrix)):\n",
    "        mask = ''\n",
    "        for j in range(len(comm_matrix[i])):\n",
    "            if comm_matrix[i][j][0] != 'X':\n",
    "                mask += '1'\n",
    "            else:\n",
    "                mask += '0'\n",
    "        if mask in comm_links:\n",
    "            comm_links[mask].append(i)\n",
    "        else:\n",
    "            comm_links[mask] = [i]\n",
    "    for mask in comm_links:\n",
    "        summed_g1 = [0]*(len(comm_matrix[0][0])//32)\n",
    "        summed_g2 = [0]*(len(comm_matrix[0][1])//32)\n",
    "        summed_g3 = [0]*(len(comm_matrix[0][2])//32)\n",
    "        summed_g4 = [0]*(len(comm_matrix[0][3])//32)\n",
    "        for i in range(len(mask)):\n",
    "            if mask[i] == '1':\n",
    "                for client in comm_links[mask]:\n",
    "                    if i == 0:\n",
    "                        g1 = [0]*(len(comm_matrix[client][i])//32)\n",
    "                        for j in range(0, len(comm_matrix[client][i]), 32):\n",
    "                            g1[j//32] = BitArray(bin=comm_matrix[client][i][j:j+32]).float\n",
    "                        for j in range(len(g1)):\n",
    "                            summed_g1[j] += g1[j]\n",
    "                    elif i == 1:\n",
    "                        g2 = [0]*(len(comm_matrix[client][i])//32)\n",
    "                        for j in range(0, len(comm_matrix[client][i]), 32):\n",
    "                            g2[j//32] = BitArray(bin=comm_matrix[client][i][j: j+32]).float\n",
    "                        for j in range(len(g2)):\n",
    "                            summed_g2[j] += g2[j]\n",
    "                    elif i == 2:\n",
    "                        g3 = [0]*(len(comm_matrix[client][i])//32)\n",
    "                        for j in range(0, len(comm_matrix[client][i]), 32):\n",
    "                            g3[j//32] = BitArray(bin=comm_matrix[client][i][j: j+32]).float\n",
    "                        for j in range(len(g3)):\n",
    "                            summed_g3[j] += g3[j]\n",
    "                    else:\n",
    "                        g4 = [0]*(len(comm_matrix[client][i])//32)\n",
    "                        for j in range(0, len(comm_matrix[client][i]), 32):\n",
    "                            g4[j//32] = BitArray(bin=comm_matrix[client][i][j: j+32]).float\n",
    "                        for j in range(len(g4)):\n",
    "                            summed_g4[j] += g4[j]\n",
    "        X_cnt = 0\n",
    "        for i in range(len(mask)):\n",
    "            if mask[i] == '0':\n",
    "                X_cnt += 1\n",
    "                if i == 0:\n",
    "                    summed_g1 = 'X'\n",
    "                elif i == 1:\n",
    "                    summed_g2 = 'X'\n",
    "                elif i == 2:\n",
    "                    summed_g3 = 'X'\n",
    "                else:\n",
    "                    summed_g4 = 'X'\n",
    "        if X_cnt > 1:\n",
    "            lost_clients += len(comm_links[mask])\n",
    "        else:\n",
    "            masterReceiver([summed_g1, summed_g2, summed_g3, summed_g4])\n",
    "    return [scaled_weights_list, lost_clients]"
   ]
  },
  {
   "cell_type": "markdown",
   "metadata": {},
   "source": [
    "Model test function"
   ]
  },
  {
   "cell_type": "code",
   "execution_count": 133,
   "metadata": {},
   "outputs": [],
   "source": [
    "from keras.losses import CategoricalCrossentropy\n",
    "from sklearn.metrics import accuracy_score\n",
    "def test_model(X_test, Y_test,  model, comm_round):\n",
    "    cce = CategoricalCrossentropy(from_logits=True)\n",
    "    logits = model.predict(X_test)\n",
    "    loss = cce(Y_test, logits)\n",
    "    acc = accuracy_score(tf.argmax(logits, axis=1), tf.argmax(Y_test, axis=1))\n",
    "    print('comm_round: {} | global_acc: {:.3%} | global_loss: {}'.format(comm_round+1, acc, loss))\n",
    "    return acc, loss"
   ]
  },
  {
   "cell_type": "markdown",
   "metadata": {},
   "source": [
    "Federated Averaging Algorithm"
   ]
  },
  {
   "cell_type": "code",
   "execution_count": 134,
   "metadata": {},
   "outputs": [],
   "source": [
    "from keras import backend as K\n",
    "def fedML(packet_loss_prob=0):\n",
    "    smlp_global = SimpleMLP()\n",
    "    global_model = smlp_global.build(784, 10)\n",
    "    model_shape = get_shape(global_model.get_weights())\n",
    "    accuracy = []\n",
    "    for comm_round in range(comms_round):\n",
    "        global_weights = global_model.get_weights()\n",
    "        client_names= list(clients_batched.keys())\n",
    "        comm_matrix = create_comm_matrix(num_clients, num_helpers)\n",
    "        random.shuffle(client_names)\n",
    "        for client_number, client in enumerate(client_names):\n",
    "            smlp_local = SimpleMLP()\n",
    "            local_model = smlp_local.build(784, 10)\n",
    "            local_model.compile(loss=loss, optimizer=optimizer, metrics=metrics)\n",
    "            local_model.set_weights(global_weights)\n",
    "            local_model.fit(clients_batched[client], epochs=1, verbose=0)\n",
    "            scaling_factor = weight_scaling_factor(clients_batched, client)\n",
    "            scaled_weights = scale_model_weights(local_model.get_weights(), scaling_factor)\n",
    "            bitWeights = modulation(scaled_weights)\n",
    "            transmissionCH(bitWeights, comm_matrix, client_number, packet_loss_prob)\n",
    "            K.clear_session()\n",
    "        scaled_weights_list, lost_clients = transmissionHM(comm_matrix)\n",
    "        if lost_clients != 0:\n",
    "            compensated_lost_weights = scale_model_weights(global_weights, lost_clients*weight_scaling_factor(clients_batched, 'client_1'))\n",
    "            packets = modulation(compensated_lost_weights)\n",
    "            weights = packets\n",
    "            for i in range(len(packets)):\n",
    "                weights[i] = BitArray(bin=packets[i]).float\n",
    "            scaled_weights_list.append(weights)\n",
    "        global_weights = sum_scaled_weights(scaled_weights_list)\n",
    "        global_weights = demodulation(global_weights, model_shape)\n",
    "        global_model.set_weights(global_weights)\n",
    "        for(X_test, Y_test) in test_batched:\n",
    "            global_acc, _ = test_model(X_test, Y_test, global_model, comm_round)\n",
    "            accuracy.append(global_acc)\n",
    "    return accuracy"
   ]
  },
  {
   "cell_type": "code",
   "execution_count": 135,
   "metadata": {},
   "outputs": [
    {
     "name": "stdout",
     "output_type": "stream",
     "text": [
      "132/132 [==============================] - 1s 4ms/step\n",
      "comm_round: 1 | global_acc: 85.667% | global_loss: 1.8777011632919312\n",
      "132/132 [==============================] - 1s 4ms/step\n",
      "comm_round: 2 | global_acc: 88.643% | global_loss: 1.7394077777862549\n",
      "132/132 [==============================] - 1s 5ms/step\n",
      "comm_round: 3 | global_acc: 89.619% | global_loss: 1.6635996103286743\n",
      "132/132 [==============================] - 1s 4ms/step\n",
      "comm_round: 4 | global_acc: 90.619% | global_loss: 1.6333839893341064\n",
      "132/132 [==============================] - 1s 5ms/step\n",
      "comm_round: 5 | global_acc: 91.357% | global_loss: 1.6156213283538818\n",
      "132/132 [==============================] - 1s 5ms/step\n",
      "comm_round: 6 | global_acc: 91.714% | global_loss: 1.605328917503357\n",
      "132/132 [==============================] - 1s 5ms/step\n",
      "comm_round: 7 | global_acc: 92.238% | global_loss: 1.595242977142334\n",
      "132/132 [==============================] - 1s 5ms/step\n",
      "comm_round: 8 | global_acc: 92.429% | global_loss: 1.5894075632095337\n",
      "132/132 [==============================] - 1s 5ms/step\n",
      "comm_round: 9 | global_acc: 92.857% | global_loss: 1.5842498540878296\n",
      "132/132 [==============================] - 1s 5ms/step\n",
      "comm_round: 10 | global_acc: 93.167% | global_loss: 1.5791754722595215\n",
      "132/132 [==============================] - 1s 5ms/step\n",
      "comm_round: 11 | global_acc: 93.357% | global_loss: 1.5758095979690552\n",
      "132/132 [==============================] - 1s 5ms/step\n",
      "comm_round: 12 | global_acc: 93.667% | global_loss: 1.5732518434524536\n",
      "132/132 [==============================] - 1s 6ms/step\n",
      "comm_round: 13 | global_acc: 93.810% | global_loss: 1.570659875869751\n",
      "132/132 [==============================] - 1s 6ms/step\n",
      "comm_round: 14 | global_acc: 93.833% | global_loss: 1.5678318738937378\n",
      "132/132 [==============================] - 1s 6ms/step\n",
      "comm_round: 15 | global_acc: 93.929% | global_loss: 1.5660804510116577\n",
      "132/132 [==============================] - 1s 6ms/step\n",
      "comm_round: 16 | global_acc: 94.262% | global_loss: 1.5640450716018677\n",
      "132/132 [==============================] - 1s 7ms/step\n",
      "comm_round: 17 | global_acc: 94.357% | global_loss: 1.5622044801712036\n",
      "132/132 [==============================] - 1s 6ms/step\n",
      "comm_round: 18 | global_acc: 94.452% | global_loss: 1.5607378482818604\n",
      "132/132 [==============================] - 1s 6ms/step\n",
      "comm_round: 19 | global_acc: 94.524% | global_loss: 1.5592474937438965\n",
      "132/132 [==============================] - 1s 6ms/step\n",
      "comm_round: 20 | global_acc: 94.595% | global_loss: 1.5580480098724365\n",
      "132/132 [==============================] - 1s 7ms/step\n",
      "comm_round: 21 | global_acc: 94.857% | global_loss: 1.5568842887878418\n",
      "132/132 [==============================] - 1s 7ms/step\n",
      "comm_round: 22 | global_acc: 94.857% | global_loss: 1.555850625038147\n",
      "132/132 [==============================] - 1s 6ms/step\n",
      "comm_round: 23 | global_acc: 94.881% | global_loss: 1.5547525882720947\n",
      "132/132 [==============================] - 1s 6ms/step\n",
      "comm_round: 24 | global_acc: 94.929% | global_loss: 1.5536383390426636\n",
      "132/132 [==============================] - 1s 7ms/step\n",
      "comm_round: 25 | global_acc: 94.976% | global_loss: 1.5526854991912842\n",
      "132/132 [==============================] - 1s 7ms/step\n",
      "comm_round: 26 | global_acc: 94.976% | global_loss: 1.5520761013031006\n",
      "132/132 [==============================] - 1s 7ms/step\n",
      "comm_round: 27 | global_acc: 94.952% | global_loss: 1.5514497756958008\n",
      "132/132 [==============================] - 1s 7ms/step\n",
      "comm_round: 28 | global_acc: 95.119% | global_loss: 1.5507721900939941\n",
      "132/132 [==============================] - 1s 7ms/step\n",
      "comm_round: 29 | global_acc: 95.214% | global_loss: 1.5497945547103882\n",
      "132/132 [==============================] - 1s 7ms/step\n",
      "comm_round: 30 | global_acc: 95.190% | global_loss: 1.5489861965179443\n",
      "132/132 [==============================] - 1s 6ms/step\n",
      "comm_round: 31 | global_acc: 95.262% | global_loss: 1.547832727432251\n",
      "132/132 [==============================] - 1s 7ms/step\n",
      "comm_round: 32 | global_acc: 95.262% | global_loss: 1.547121524810791\n",
      "132/132 [==============================] - 1s 7ms/step\n",
      "comm_round: 33 | global_acc: 95.286% | global_loss: 1.5464760065078735\n",
      "132/132 [==============================] - 1s 7ms/step\n",
      "comm_round: 34 | global_acc: 95.286% | global_loss: 1.545838475227356\n",
      "132/132 [==============================] - 1s 6ms/step\n",
      "comm_round: 35 | global_acc: 95.214% | global_loss: 1.5449146032333374\n",
      "132/132 [==============================] - 1s 7ms/step\n",
      "comm_round: 36 | global_acc: 95.214% | global_loss: 1.5445349216461182\n",
      "132/132 [==============================] - 1s 7ms/step\n",
      "comm_round: 37 | global_acc: 95.286% | global_loss: 1.5437567234039307\n",
      "132/132 [==============================] - 1s 7ms/step\n",
      "comm_round: 38 | global_acc: 95.357% | global_loss: 1.5435996055603027\n",
      "132/132 [==============================] - 1s 7ms/step\n",
      "comm_round: 39 | global_acc: 95.429% | global_loss: 1.5429795980453491\n",
      "132/132 [==============================] - 1s 7ms/step\n",
      "comm_round: 40 | global_acc: 95.500% | global_loss: 1.5423654317855835\n",
      "132/132 [==============================] - 1s 7ms/step\n",
      "comm_round: 41 | global_acc: 95.524% | global_loss: 1.5419937372207642\n",
      "132/132 [==============================] - 1s 6ms/step\n",
      "comm_round: 42 | global_acc: 95.548% | global_loss: 1.5414597988128662\n",
      "132/132 [==============================] - 1s 7ms/step\n",
      "comm_round: 43 | global_acc: 95.571% | global_loss: 1.5410763025283813\n",
      "132/132 [==============================] - 1s 7ms/step\n",
      "comm_round: 44 | global_acc: 95.619% | global_loss: 1.540845274925232\n",
      "132/132 [==============================] - 1s 6ms/step\n",
      "comm_round: 45 | global_acc: 95.643% | global_loss: 1.5402978658676147\n",
      "132/132 [==============================] - 1s 7ms/step\n",
      "comm_round: 46 | global_acc: 95.595% | global_loss: 1.5396517515182495\n",
      "132/132 [==============================] - 1s 7ms/step\n",
      "comm_round: 47 | global_acc: 95.619% | global_loss: 1.5394154787063599\n",
      "132/132 [==============================] - 1s 7ms/step\n",
      "comm_round: 48 | global_acc: 95.690% | global_loss: 1.538784146308899\n",
      "132/132 [==============================] - 1s 8ms/step\n",
      "comm_round: 49 | global_acc: 95.643% | global_loss: 1.5384340286254883\n",
      "132/132 [==============================] - 1s 9ms/step\n",
      "comm_round: 50 | global_acc: 95.667% | global_loss: 1.5381035804748535\n",
      "132/132 [==============================] - 1s 7ms/step\n",
      "comm_round: 51 | global_acc: 95.738% | global_loss: 1.5375332832336426\n",
      "132/132 [==============================] - 1s 8ms/step\n",
      "comm_round: 52 | global_acc: 95.738% | global_loss: 1.537216305732727\n",
      "132/132 [==============================] - 1s 8ms/step\n",
      "comm_round: 53 | global_acc: 95.690% | global_loss: 1.5368015766143799\n",
      "132/132 [==============================] - 1s 7ms/step\n",
      "comm_round: 54 | global_acc: 95.738% | global_loss: 1.5365686416625977\n",
      "132/132 [==============================] - 1s 7ms/step\n",
      "comm_round: 55 | global_acc: 95.786% | global_loss: 1.5360740423202515\n",
      "132/132 [==============================] - 1s 9ms/step\n",
      "comm_round: 56 | global_acc: 95.690% | global_loss: 1.5360671281814575\n",
      "132/132 [==============================] - 1s 9ms/step\n",
      "comm_round: 57 | global_acc: 95.810% | global_loss: 1.5353906154632568\n",
      "132/132 [==============================] - 1s 10ms/step\n",
      "comm_round: 58 | global_acc: 95.833% | global_loss: 1.5349427461624146\n",
      "132/132 [==============================] - 1s 8ms/step\n",
      "comm_round: 59 | global_acc: 95.833% | global_loss: 1.5346938371658325\n",
      "132/132 [==============================] - 1s 7ms/step\n",
      "comm_round: 60 | global_acc: 95.857% | global_loss: 1.5344698429107666\n",
      "132/132 [==============================] - 1s 6ms/step\n",
      "comm_round: 61 | global_acc: 95.857% | global_loss: 1.5342817306518555\n",
      "132/132 [==============================] - 1s 6ms/step\n",
      "comm_round: 62 | global_acc: 95.952% | global_loss: 1.533766746520996\n",
      "132/132 [==============================] - 1s 6ms/step\n",
      "comm_round: 63 | global_acc: 95.929% | global_loss: 1.5334291458129883\n",
      "132/132 [==============================] - 1s 8ms/step\n",
      "comm_round: 64 | global_acc: 95.905% | global_loss: 1.5331357717514038\n",
      "132/132 [==============================] - 1s 8ms/step\n",
      "comm_round: 65 | global_acc: 95.976% | global_loss: 1.5329864025115967\n",
      "132/132 [==============================] - 1s 9ms/step\n",
      "comm_round: 66 | global_acc: 95.857% | global_loss: 1.532701849937439\n",
      "132/132 [==============================] - 1s 8ms/step\n",
      "comm_round: 67 | global_acc: 95.905% | global_loss: 1.532396912574768\n",
      "132/132 [==============================] - 1s 10ms/step\n",
      "comm_round: 68 | global_acc: 95.976% | global_loss: 1.5323374271392822\n",
      "132/132 [==============================] - 1s 8ms/step\n",
      "comm_round: 69 | global_acc: 96.071% | global_loss: 1.5318480730056763\n",
      "132/132 [==============================] - 1s 8ms/step\n",
      "comm_round: 70 | global_acc: 96.071% | global_loss: 1.5315922498703003\n",
      "132/132 [==============================] - 1s 8ms/step\n",
      "comm_round: 71 | global_acc: 96.071% | global_loss: 1.5315227508544922\n",
      "132/132 [==============================] - 1s 8ms/step\n",
      "comm_round: 72 | global_acc: 96.095% | global_loss: 1.5312941074371338\n",
      "132/132 [==============================] - 1s 8ms/step\n",
      "comm_round: 73 | global_acc: 96.095% | global_loss: 1.530981183052063\n",
      "132/132 [==============================] - 1s 8ms/step\n",
      "comm_round: 74 | global_acc: 96.095% | global_loss: 1.5307931900024414\n",
      "132/132 [==============================] - 1s 9ms/step\n",
      "comm_round: 75 | global_acc: 96.071% | global_loss: 1.5305339097976685\n",
      "132/132 [==============================] - 1s 8ms/step\n",
      "comm_round: 76 | global_acc: 96.095% | global_loss: 1.5303791761398315\n",
      "132/132 [==============================] - 1s 8ms/step\n",
      "comm_round: 77 | global_acc: 96.119% | global_loss: 1.5301513671875\n",
      "132/132 [==============================] - 1s 9ms/step\n",
      "comm_round: 78 | global_acc: 96.119% | global_loss: 1.530068278312683\n",
      "132/132 [==============================] - 2s 13ms/step\n",
      "comm_round: 79 | global_acc: 96.167% | global_loss: 1.5297572612762451\n",
      "132/132 [==============================] - 2s 13ms/step\n",
      "comm_round: 80 | global_acc: 96.143% | global_loss: 1.52950119972229\n",
      "132/132 [==============================] - 2s 13ms/step\n",
      "comm_round: 81 | global_acc: 96.167% | global_loss: 1.5293123722076416\n",
      "132/132 [==============================] - 1s 7ms/step\n",
      "comm_round: 82 | global_acc: 96.167% | global_loss: 1.529280424118042\n",
      "132/132 [==============================] - 2s 13ms/step\n",
      "comm_round: 83 | global_acc: 96.143% | global_loss: 1.5289883613586426\n",
      "132/132 [==============================] - 2s 14ms/step\n",
      "comm_round: 84 | global_acc: 96.167% | global_loss: 1.5288318395614624\n",
      "132/132 [==============================] - 1s 6ms/step\n",
      "comm_round: 85 | global_acc: 96.190% | global_loss: 1.5286109447479248\n",
      "132/132 [==============================] - 1s 6ms/step\n",
      "comm_round: 86 | global_acc: 96.214% | global_loss: 1.5283305644989014\n",
      "132/132 [==============================] - 1s 6ms/step\n",
      "comm_round: 87 | global_acc: 96.238% | global_loss: 1.5282005071640015\n",
      "132/132 [==============================] - 2s 13ms/step\n",
      "comm_round: 88 | global_acc: 96.238% | global_loss: 1.5281121730804443\n",
      "132/132 [==============================] - 1s 10ms/step\n",
      "comm_round: 89 | global_acc: 96.190% | global_loss: 1.5280871391296387\n",
      "132/132 [==============================] - 2s 14ms/step\n",
      "comm_round: 90 | global_acc: 96.238% | global_loss: 1.5277862548828125\n",
      "132/132 [==============================] - 2s 15ms/step\n",
      "comm_round: 91 | global_acc: 96.310% | global_loss: 1.5276892185211182\n",
      "132/132 [==============================] - 2s 14ms/step\n",
      "comm_round: 92 | global_acc: 96.310% | global_loss: 1.527374029159546\n",
      "132/132 [==============================] - 2s 12ms/step\n",
      "comm_round: 93 | global_acc: 96.262% | global_loss: 1.5272331237792969\n",
      "132/132 [==============================] - 2s 15ms/step\n",
      "comm_round: 94 | global_acc: 96.357% | global_loss: 1.527138352394104\n",
      "132/132 [==============================] - 2s 13ms/step\n",
      "comm_round: 95 | global_acc: 96.333% | global_loss: 1.5270086526870728\n",
      "132/132 [==============================] - 2s 13ms/step\n",
      "comm_round: 96 | global_acc: 96.333% | global_loss: 1.5268326997756958\n",
      "132/132 [==============================] - 2s 13ms/step\n",
      "comm_round: 97 | global_acc: 96.333% | global_loss: 1.5267877578735352\n",
      "132/132 [==============================] - 2s 13ms/step\n",
      "comm_round: 98 | global_acc: 96.333% | global_loss: 1.5266051292419434\n",
      "132/132 [==============================] - 2s 13ms/step\n",
      "comm_round: 99 | global_acc: 96.357% | global_loss: 1.5263930559158325\n",
      "132/132 [==============================] - 2s 14ms/step\n",
      "comm_round: 100 | global_acc: 96.357% | global_loss: 1.526344895362854\n"
     ]
    }
   ],
   "source": [
    "accuracies25 = fedML(0.25)"
   ]
  },
  {
   "cell_type": "code",
   "execution_count": 136,
   "metadata": {},
   "outputs": [
    {
     "data": {
      "text/plain": [
       "Text(0, 0.5, 'Accuracy')"
      ]
     },
     "execution_count": 136,
     "metadata": {},
     "output_type": "execute_result"
    },
    {
     "data": {
      "image/png": "[encoded data removed]",
      "text/plain": [
       "<Figure size 432x288 with 1 Axes>"
      ]
     },
     "metadata": {
      "needs_background": "light"
     },
     "output_type": "display_data"
    }
   ],
   "source": [
    "accuracies = accuracies25\n",
    "x_axis = []\n",
    "for i in range(100):\n",
    "    x_axis.append(i+1)\n",
    "plt.plot(x_axis, accuracies, color=\"blue\")\n",
    "plt.xlabel(\"Training round\")\n",
    "plt.ylabel(\"Accuracy\")"
   ]
  },
  {
   "cell_type": "code",
   "execution_count": 137,
   "metadata": {},
   "outputs": [],
   "source": [
    "np.savetxt('output/acc25.csv', accuracies25)"
   ]
  }
 ],
 "metadata": {
  "kernelspec": {
   "display_name": "Python 3.9.12 ('base')",
   "language": "python",
   "name": "python3"
  },
  "language_info": {
   "codemirror_mode": {
    "name": "ipython",
    "version": 3
   },
   "file_extension": ".py",
   "mimetype": "text/x-python",
   "name": "python",
   "nbconvert_exporter": "python",
   "pygments_lexer": "ipython3",
   "version": "3.9.12"
  },
  "orig_nbformat": 4,
  "vscode": {
   "interpreter": {
    "hash": "b7c783bdd1001b55fab5c22007d050c844afa9d766f14df437f43c40fd2b4e70"
   }
  }
 },
 "nbformat": 4,
 "nbformat_minor": 2
}
