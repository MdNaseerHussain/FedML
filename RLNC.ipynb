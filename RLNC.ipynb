{
 "cells": [
  {
   "cell_type": "markdown",
   "metadata": {},
   "source": [
    "# Federated ML\n",
    "## Contents\n",
    "1. Introduction\n",
    "1. Reading an image from the dataset\n",
    "1. Loading Images and Labels\n",
    "1. Splitting training and testing data\n",
    "1. Creating clients\n",
    "1. Creating helper nodes\n",
    "1. Batching clients' and test data\n",
    "1. Creating an MLP model\n",
    "1. Optimizer, Loss function and Metrics to compile the model\n",
    "1. Utility functions for the Federated Averaging\n",
    "1. Functions to fetch and set shape of model weights\n",
    "1. Modulation and Demodulation functions for Communication\n",
    "1. Transmission functions from Client to Helper and Helper to Master\n",
    "1. Model test function\n",
    "1. Federated Averaging Algorithm"
   ]
  },
  {
   "attachments": {},
   "cell_type": "markdown",
   "metadata": {},
   "source": [
    "## Introduction\n",
    "In this notebook, we have implemented a working Federated ML model. The goal is to simulate packet losses in communication between the server and the clients in the Federated Averaging Algorithm. The function once implemented will be added to the algorithm near the TODO's in the code."
   ]
  },
  {
   "cell_type": "markdown",
   "metadata": {},
   "source": [
    "Reading an image from the dataset"
   ]
  },
  {
   "cell_type": "code",
   "execution_count": 37,
   "metadata": {},
   "outputs": [
    {
     "data": {
      "text/plain": [
       "Text(0.5, 1.0, 'Image')"
      ]
     },
     "execution_count": 37,
     "metadata": {},
     "output_type": "execute_result"
    },
    {
     "data": {
      "image/png": "[encoded data removed]",
      "text/plain": [
       "<Figure size 640x480 with 1 Axes>"
      ]
     },
     "metadata": {},
     "output_type": "display_data"
    }
   ],
   "source": [
    "import cv2\n",
    "import matplotlib.pyplot as plt\n",
    "image = cv2.imread(\"datasets/numbers/trainingSet/0/img_1.jpg\")\n",
    "plt.imshow(image)\n",
    "plt.title(\"Image\")"
   ]
  },
  {
   "cell_type": "markdown",
   "metadata": {},
   "source": [
    "Loading Images and Labels"
   ]
  },
  {
   "cell_type": "code",
   "execution_count": 38,
   "metadata": {},
   "outputs": [
    {
     "name": "stdout",
     "output_type": "stream",
     "text": [
      "[INFO] Processed 1/10\n",
      "[INFO] Processed 2/10\n",
      "[INFO] Processed 3/10\n",
      "[INFO] Processed 4/10\n",
      "[INFO] Processed 5/10\n",
      "[INFO] Processed 6/10\n",
      "[INFO] Processed 7/10\n",
      "[INFO] Processed 8/10\n",
      "[INFO] Processed 9/10\n",
      "[INFO] Processed 10/10\n"
     ]
    }
   ],
   "source": [
    "import os\n",
    "import numpy as np\n",
    "from sklearn.preprocessing import LabelBinarizer\n",
    "dir_path = \"datasets/numbers/trainingSet/\"\n",
    "images = list()\n",
    "labels = list()\n",
    "for number in range(0, 10):\n",
    "    folder = dir_path + str(number)\n",
    "    for image_file in os.listdir(folder):\n",
    "        image_gray = cv2.imread(os.path.join(folder, image_file), cv2.IMREAD_GRAYSCALE)\n",
    "        image = np.array(image_gray).flatten()\n",
    "        images.append(image/255)\n",
    "        labels.append(number)\n",
    "    print(\"[INFO] Processed {}/{}\".format(number + 1, 10))\n",
    "lb = LabelBinarizer()\n",
    "labels = lb.fit_transform(labels)"
   ]
  },
  {
   "cell_type": "markdown",
   "metadata": {},
   "source": [
    "Splitting training and testing data"
   ]
  },
  {
   "cell_type": "code",
   "execution_count": 39,
   "metadata": {},
   "outputs": [],
   "source": [
    "from sklearn.model_selection import train_test_split\n",
    "images_train, images_test, labels_train, labels_test = train_test_split(images, labels, test_size=0.1, random_state=42)"
   ]
  },
  {
   "cell_type": "markdown",
   "metadata": {},
   "source": [
    "Creating clients"
   ]
  },
  {
   "cell_type": "code",
   "execution_count": 40,
   "metadata": {},
   "outputs": [],
   "source": [
    "import random\n",
    "num_clients = 16\n",
    "client_names = [\"client_{}\".format(i + 1) for i in range(num_clients)]\n",
    "data = list(zip(images, labels))\n",
    "random.shuffle(data)\n",
    "size = len(data)//num_clients\n",
    "data_shards = [data[i:i + size] for i in range(0, size*num_clients, size)]\n",
    "clients = {client_names[i]: data_shards[i] for i in range(num_clients)}"
   ]
  },
  {
   "cell_type": "markdown",
   "metadata": {},
   "source": [
    "Creating helper nodes"
   ]
  },
  {
   "cell_type": "code",
   "execution_count": 41,
   "metadata": {},
   "outputs": [],
   "source": [
    "import math\n",
    "num_helpers = math.ceil(math.log2(num_clients))"
   ]
  },
  {
   "cell_type": "markdown",
   "metadata": {},
   "source": [
    "Batching clients' and test data"
   ]
  },
  {
   "cell_type": "code",
   "execution_count": 42,
   "metadata": {},
   "outputs": [],
   "source": [
    "import tensorflow as tf\n",
    "batch_size = 32\n",
    "clients_batched = dict()\n",
    "for (client_name, data_shard) in clients.items():\n",
    "    data, labels = zip(*data_shard)\n",
    "    dataset = tf.data.Dataset.from_tensor_slices((list(data), list(labels)))\n",
    "    clients_batched[client_name] = dataset.shuffle(len(labels)).batch(batch_size)\n",
    "test_batched = tf.data.Dataset.from_tensor_slices((images_test, labels_test)).batch(len(labels_test))"
   ]
  },
  {
   "cell_type": "markdown",
   "metadata": {},
   "source": [
    "Creating the Multi Layer Perception (MLP) model"
   ]
  },
  {
   "cell_type": "code",
   "execution_count": 43,
   "metadata": {},
   "outputs": [],
   "source": [
    "from keras.models import Sequential\n",
    "from keras.layers import Dense, Activation\n",
    "class SimpleMLP:\n",
    "    @staticmethod\n",
    "    def build(shape, classes):\n",
    "        model = Sequential()\n",
    "        model.add(Dense(200, input_shape=(shape,)))\n",
    "        model.add(Activation(\"relu\"))\n",
    "        model.add(Dense(200))\n",
    "        model.add(Activation(\"relu\"))\n",
    "        model.add(Dense(classes))\n",
    "        model.add(Activation(\"softmax\"))\n",
    "        return model"
   ]
  },
  {
   "cell_type": "markdown",
   "metadata": {},
   "source": [
    "Optimizer, Loss function and Metrics to compile the model"
   ]
  },
  {
   "cell_type": "code",
   "execution_count": 44,
   "metadata": {},
   "outputs": [
    {
     "name": "stderr",
     "output_type": "stream",
     "text": [
      "C:\\Users\\mdnaj\\AppData\\Local\\Packages\\PythonSoftwareFoundation.Python.3.10_qbz5n2kfra8p0\\LocalCache\\local-packages\\Python310\\site-packages\\keras\\optimizers\\optimizer_v2\\gradient_descent.py:114: UserWarning: The `lr` argument is deprecated, use `learning_rate` instead.\n",
      "  super().__init__(name, **kwargs)\n"
     ]
    }
   ],
   "source": [
    "from keras.optimizers import SGD\n",
    "lr = 0.01 \n",
    "comms_round = 100\n",
    "loss='categorical_crossentropy'\n",
    "metrics = ['accuracy']\n",
    "optimizer = SGD(lr=lr, decay=lr/comms_round, momentum=0.9)"
   ]
  },
  {
   "cell_type": "markdown",
   "metadata": {},
   "source": [
    "Utility functions for the Federated Averaging"
   ]
  },
  {
   "cell_type": "code",
   "execution_count": 45,
   "metadata": {},
   "outputs": [],
   "source": [
    "def weight_scaling_factor(clients_trn_data, client_name):\n",
    "    client_names = list(clients_trn_data.keys())\n",
    "    bs = list(clients_trn_data[client_name])[0][0].shape[0]\n",
    "    global_count = sum([tf.data.experimental.cardinality(clients_trn_data[client_name]).numpy() for client_name in client_names])*bs\n",
    "    local_count = tf.data.experimental.cardinality(clients_trn_data[client_name]).numpy()*bs\n",
    "    return local_count/global_count\n",
    "\n",
    "def scale_model_weights(weight, scalar):\n",
    "    weight_final = []\n",
    "    steps = len(weight)\n",
    "    for i in range(steps):\n",
    "        weight_final.append(scalar * weight[i])\n",
    "    return weight_final\n",
    "\n",
    "def sum_scaled_weights(scaled_weight_list):\n",
    "    avg_grad = list()\n",
    "    for grad_list_tuple in zip(*scaled_weight_list):\n",
    "        layer_mean = tf.math.reduce_sum(grad_list_tuple, axis=0)\n",
    "        avg_grad.append(layer_mean)\n",
    "    return avg_grad"
   ]
  },
  {
   "cell_type": "markdown",
   "metadata": {},
   "source": [
    "Functions to fetch and set shape of model weights"
   ]
  },
  {
   "cell_type": "code",
   "execution_count": 46,
   "metadata": {},
   "outputs": [],
   "source": [
    "def get_shape(weights):\n",
    "    shapes = [i.shape for i in weights]\n",
    "    return shapes\n",
    "\n",
    "def flatten_model_weights(weights):\n",
    "    flattened_weights = np.concatenate([i.flatten() for i in weights])\n",
    "    return flattened_weights\n",
    "\n",
    "def restore_model_shape(flattened_weights, shapes):\n",
    "    weights = []\n",
    "    index = 0\n",
    "    for shape in shapes:\n",
    "        size = np.product(shape)\n",
    "        arr = np.array(flattened_weights[index : index + size])\n",
    "        weights.append(arr.reshape(shape))\n",
    "        index += size\n",
    "    return weights"
   ]
  },
  {
   "cell_type": "markdown",
   "metadata": {},
   "source": [
    "Modulation and Demodulation Functions for Communication"
   ]
  },
  {
   "cell_type": "code",
   "execution_count": 47,
   "metadata": {},
   "outputs": [],
   "source": [
    "from bitstring import BitArray\n",
    "\n",
    "def modulation(weights):\n",
    "    weights = flatten_model_weights(weights)\n",
    "    packets = []\n",
    "    for i in range(len(weights)):\n",
    "        packet = BitArray(float=weights[i], length=32)\n",
    "        packets.append(packet.bin)\n",
    "    return packets\n",
    "\n",
    "def demodulation(weights, model_shape):\n",
    "    return restore_model_shape(weights, model_shape)"
   ]
  },
  {
   "cell_type": "markdown",
   "metadata": {},
   "source": [
    "Transmission functions from Client to Helper and Helper to Master"
   ]
  },
  {
   "cell_type": "code",
   "execution_count": 48,
   "metadata": {},
   "outputs": [],
   "source": [
    "import random\n",
    "\n",
    "def calculateDecodingProbability(n):\n",
    "    if n < 3:\n",
    "        return 0\n",
    "    k, q = 3, 2**8\n",
    "    num, den = 1, 1\n",
    "    for i in range(0, k):\n",
    "        num *= (1 - q**(i - n))\n",
    "        den *= (1 - q**(i - n + 1))\n",
    "    return 1 - (1 - num)/(1 - den)\n",
    "\n",
    "def transmissionCH(packet_loss_prob, Cmax):\n",
    "    succesfully_transmitted = 0\n",
    "    transmissions = []\n",
    "    transmissionCnt = 0\n",
    "    for i in range(4):\n",
    "        transmissionCnt += 1\n",
    "        if random.random() > packet_loss_prob:\n",
    "            transmissions.append(1)\n",
    "            succesfully_transmitted += 1\n",
    "        else:\n",
    "            transmissions.append(0)\n",
    "    if succesfully_transmitted >= 3:\n",
    "        return transmissions, True\n",
    "    while transmissionCnt < Cmax:\n",
    "        transmissionCnt += 1\n",
    "        if random.random() > packet_loss_prob:\n",
    "            transmissions.append(1)\n",
    "            succesfully_transmitted += 1\n",
    "        else:\n",
    "            transmissions.append(0)\n",
    "        probability_success = calculateDecodingProbability(succesfully_transmitted)\n",
    "        if random.random() < probability_success:\n",
    "            return transmissions, True\n",
    "    return transmissions, False"
   ]
  },
  {
   "cell_type": "markdown",
   "metadata": {},
   "source": [
    "Model test function"
   ]
  },
  {
   "cell_type": "code",
   "execution_count": 49,
   "metadata": {},
   "outputs": [],
   "source": [
    "from keras.losses import CategoricalCrossentropy\n",
    "from sklearn.metrics import accuracy_score\n",
    "def test_model(X_test, Y_test,  model, comm_round):\n",
    "    cce = CategoricalCrossentropy(from_logits=True)\n",
    "    logits = model.predict(X_test)\n",
    "    loss = cce(Y_test, logits)\n",
    "    acc = accuracy_score(tf.argmax(logits, axis=1), tf.argmax(Y_test, axis=1))\n",
    "    print('comm_round: {} | global_acc: {:.3%} | global_loss: {}'.format(comm_round+1, acc, loss))\n",
    "    return acc, loss"
   ]
  },
  {
   "cell_type": "markdown",
   "metadata": {},
   "source": [
    "Federated Averaging Algorithm"
   ]
  },
  {
   "cell_type": "code",
   "execution_count": 50,
   "metadata": {},
   "outputs": [],
   "source": [
    "from keras import backend as K\n",
    "\n",
    "def fedML(packet_loss_prob=0, Cmax=9):\n",
    "    print(Cmax)\n",
    "    smlp_global = SimpleMLP()\n",
    "    global_model = smlp_global.build(784, 10)\n",
    "    model_shape = get_shape(global_model.get_weights())\n",
    "    accuracy = []\n",
    "    for comm_round in range(comms_round):\n",
    "        global_weights = global_model.get_weights()\n",
    "        client_names= list(clients_batched.keys())\n",
    "        scaled_weights_list = []\n",
    "        comm_matrix = []\n",
    "        random.shuffle(client_names)\n",
    "        lost_clients = 0\n",
    "        for client_number, client in enumerate(client_names):\n",
    "            smlp_local = SimpleMLP()\n",
    "            local_model = smlp_local.build(784, 10)\n",
    "            local_model.compile(loss=loss, optimizer=optimizer, metrics=metrics)\n",
    "            local_model.set_weights(global_weights)\n",
    "            local_model.fit(clients_batched[client], epochs=1, verbose=0)\n",
    "            scaling_factor = weight_scaling_factor(clients_batched, client)\n",
    "            scaled_weights = scale_model_weights(local_model.get_weights(), scaling_factor)\n",
    "            bitWeights = modulation(scaled_weights)\n",
    "            transmissions, decodable = transmissionCH(packet_loss_prob, Cmax)\n",
    "            comm_matrix.append(transmissions)\n",
    "            if not decodable:\n",
    "                lost_clients += 1\n",
    "            else:\n",
    "                weights = bitWeights\n",
    "                for i in range(len(bitWeights)):\n",
    "                    weights[i] = BitArray(bin=bitWeights[i]).float\n",
    "                scaled_weights_list.append(weights)\n",
    "            K.clear_session()\n",
    "        if lost_clients != 0:\n",
    "            compensated_lost_weights = scale_model_weights(global_weights, lost_clients*weight_scaling_factor(clients_batched, 'client_1'))\n",
    "            packets = modulation(compensated_lost_weights)\n",
    "            weights = packets\n",
    "            for i in range(len(packets)):\n",
    "                weights[i] = BitArray(bin=packets[i]).float\n",
    "            scaled_weights_list.append(weights)\n",
    "        global_weights = sum_scaled_weights(scaled_weights_list)\n",
    "        global_weights = demodulation(global_weights, model_shape)\n",
    "        global_model.set_weights(global_weights)\n",
    "        with open('output/rlnc/Cmax3/comm_matrix25.txt', 'a') as f:\n",
    "            f.write('Round ' + str(comm_round) + ': ' + str(comm_matrix) + '\\n')\n",
    "        for(X_test, Y_test) in test_batched:\n",
    "            global_acc, _ = test_model(X_test, Y_test, global_model, comm_round)\n",
    "            accuracy.append(global_acc)\n",
    "    return accuracy"
   ]
  },
  {
   "cell_type": "code",
   "execution_count": 51,
   "metadata": {},
   "outputs": [
    {
     "name": "stdout",
     "output_type": "stream",
     "text": [
      "9\n",
      "132/132 [==============================] - 1s 4ms/step\n",
      "comm_round: 1 | global_acc: 86.643% | global_loss: 1.7154626846313477\n",
      "132/132 [==============================] - 0s 3ms/step\n",
      "comm_round: 2 | global_acc: 89.095% | global_loss: 1.6415525674819946\n",
      "132/132 [==============================] - 0s 2ms/step\n",
      "comm_round: 3 | global_acc: 90.548% | global_loss: 1.6149550676345825\n",
      "132/132 [==============================] - 0s 2ms/step\n",
      "comm_round: 4 | global_acc: 91.310% | global_loss: 1.6021265983581543\n",
      "132/132 [==============================] - 0s 2ms/step\n",
      "comm_round: 5 | global_acc: 92.429% | global_loss: 1.5924630165100098\n",
      "132/132 [==============================] - 0s 2ms/step\n",
      "comm_round: 6 | global_acc: 92.548% | global_loss: 1.586829423904419\n",
      "132/132 [==============================] - 0s 2ms/step\n",
      "comm_round: 7 | global_acc: 93.048% | global_loss: 1.5810158252716064\n",
      "132/132 [==============================] - 0s 3ms/step\n",
      "comm_round: 8 | global_acc: 93.286% | global_loss: 1.5753278732299805\n",
      "132/132 [==============================] - 0s 3ms/step\n",
      "comm_round: 9 | global_acc: 93.667% | global_loss: 1.5720831155776978\n",
      "132/132 [==============================] - 0s 3ms/step\n",
      "comm_round: 10 | global_acc: 93.690% | global_loss: 1.5685917139053345\n",
      "132/132 [==============================] - 0s 2ms/step\n",
      "comm_round: 11 | global_acc: 94.262% | global_loss: 1.5649839639663696\n",
      "132/132 [==============================] - 0s 2ms/step\n",
      "comm_round: 12 | global_acc: 94.238% | global_loss: 1.5625674724578857\n",
      "132/132 [==============================] - 0s 2ms/step\n",
      "comm_round: 13 | global_acc: 94.405% | global_loss: 1.5603444576263428\n",
      "132/132 [==============================] - 0s 3ms/step\n",
      "comm_round: 14 | global_acc: 94.524% | global_loss: 1.5575027465820312\n",
      "132/132 [==============================] - 0s 2ms/step\n",
      "comm_round: 15 | global_acc: 94.690% | global_loss: 1.5553114414215088\n",
      "132/132 [==============================] - 0s 2ms/step\n",
      "comm_round: 16 | global_acc: 94.738% | global_loss: 1.5538588762283325\n",
      "132/132 [==============================] - 0s 2ms/step\n",
      "comm_round: 17 | global_acc: 94.952% | global_loss: 1.5518882274627686\n",
      "132/132 [==============================] - 0s 3ms/step\n",
      "comm_round: 18 | global_acc: 95.095% | global_loss: 1.5501762628555298\n",
      "132/132 [==============================] - 0s 2ms/step\n",
      "comm_round: 19 | global_acc: 95.095% | global_loss: 1.5486012697219849\n",
      "132/132 [==============================] - 0s 2ms/step\n",
      "comm_round: 20 | global_acc: 95.024% | global_loss: 1.5482231378555298\n",
      "132/132 [==============================] - 0s 2ms/step\n",
      "comm_round: 21 | global_acc: 95.286% | global_loss: 1.5461963415145874\n",
      "132/132 [==============================] - 0s 2ms/step\n",
      "comm_round: 22 | global_acc: 95.381% | global_loss: 1.5450248718261719\n",
      "132/132 [==============================] - 0s 2ms/step\n",
      "comm_round: 23 | global_acc: 95.381% | global_loss: 1.5435749292373657\n",
      "132/132 [==============================] - 0s 2ms/step\n",
      "comm_round: 24 | global_acc: 95.476% | global_loss: 1.5425719022750854\n",
      "132/132 [==============================] - 0s 2ms/step\n",
      "comm_round: 25 | global_acc: 95.429% | global_loss: 1.5417546033859253\n",
      "132/132 [==============================] - 0s 3ms/step\n",
      "comm_round: 26 | global_acc: 95.571% | global_loss: 1.5407503843307495\n",
      "132/132 [==============================] - 0s 2ms/step\n",
      "comm_round: 27 | global_acc: 95.619% | global_loss: 1.5400532484054565\n",
      "132/132 [==============================] - 0s 3ms/step\n",
      "comm_round: 28 | global_acc: 95.690% | global_loss: 1.538887619972229\n",
      "132/132 [==============================] - 0s 2ms/step\n",
      "comm_round: 29 | global_acc: 95.738% | global_loss: 1.5380924940109253\n",
      "132/132 [==============================] - 0s 2ms/step\n",
      "comm_round: 30 | global_acc: 95.786% | global_loss: 1.5372376441955566\n",
      "132/132 [==============================] - 0s 2ms/step\n",
      "comm_round: 31 | global_acc: 95.881% | global_loss: 1.5364317893981934\n",
      "132/132 [==============================] - 0s 2ms/step\n",
      "comm_round: 32 | global_acc: 95.881% | global_loss: 1.535771369934082\n",
      "132/132 [==============================] - 0s 2ms/step\n",
      "comm_round: 33 | global_acc: 95.833% | global_loss: 1.5352981090545654\n",
      "132/132 [==============================] - 0s 2ms/step\n",
      "comm_round: 34 | global_acc: 95.881% | global_loss: 1.5344009399414062\n",
      "132/132 [==============================] - 0s 2ms/step\n",
      "comm_round: 35 | global_acc: 95.929% | global_loss: 1.5339276790618896\n",
      "132/132 [==============================] - 0s 3ms/step\n",
      "comm_round: 36 | global_acc: 95.905% | global_loss: 1.5330970287322998\n",
      "132/132 [==============================] - 0s 2ms/step\n",
      "comm_round: 37 | global_acc: 95.952% | global_loss: 1.5327913761138916\n",
      "132/132 [==============================] - 0s 2ms/step\n",
      "comm_round: 38 | global_acc: 96.000% | global_loss: 1.5321989059448242\n",
      "132/132 [==============================] - 0s 2ms/step\n",
      "comm_round: 39 | global_acc: 96.024% | global_loss: 1.5313808917999268\n",
      "132/132 [==============================] - 0s 2ms/step\n",
      "comm_round: 40 | global_acc: 96.048% | global_loss: 1.5311074256896973\n",
      "132/132 [==============================] - 0s 2ms/step\n",
      "comm_round: 41 | global_acc: 96.024% | global_loss: 1.5306940078735352\n",
      "132/132 [==============================] - 0s 2ms/step\n",
      "comm_round: 42 | global_acc: 96.190% | global_loss: 1.5301873683929443\n",
      "132/132 [==============================] - 0s 3ms/step\n",
      "comm_round: 43 | global_acc: 96.119% | global_loss: 1.5297051668167114\n",
      "132/132 [==============================] - 0s 2ms/step\n",
      "comm_round: 44 | global_acc: 96.119% | global_loss: 1.5291097164154053\n",
      "132/132 [==============================] - 0s 3ms/step\n",
      "comm_round: 45 | global_acc: 96.143% | global_loss: 1.5288174152374268\n",
      "132/132 [==============================] - 0s 3ms/step\n",
      "comm_round: 46 | global_acc: 96.167% | global_loss: 1.5280604362487793\n",
      "132/132 [==============================] - 0s 2ms/step\n",
      "comm_round: 47 | global_acc: 96.310% | global_loss: 1.5278475284576416\n",
      "132/132 [==============================] - 0s 3ms/step\n",
      "comm_round: 48 | global_acc: 96.286% | global_loss: 1.5273305177688599\n",
      "132/132 [==============================] - 0s 3ms/step\n",
      "comm_round: 49 | global_acc: 96.286% | global_loss: 1.5272436141967773\n",
      "132/132 [==============================] - 0s 2ms/step\n",
      "comm_round: 50 | global_acc: 96.286% | global_loss: 1.5266695022583008\n",
      "132/132 [==============================] - 0s 3ms/step\n",
      "comm_round: 51 | global_acc: 96.357% | global_loss: 1.526227593421936\n",
      "132/132 [==============================] - 0s 2ms/step\n",
      "comm_round: 52 | global_acc: 96.357% | global_loss: 1.525937795639038\n",
      "132/132 [==============================] - 0s 3ms/step\n",
      "comm_round: 53 | global_acc: 96.357% | global_loss: 1.5256870985031128\n",
      "132/132 [==============================] - 0s 2ms/step\n",
      "comm_round: 54 | global_acc: 96.333% | global_loss: 1.525375247001648\n",
      "132/132 [==============================] - 0s 2ms/step\n",
      "comm_round: 55 | global_acc: 96.357% | global_loss: 1.5250173807144165\n",
      "132/132 [==============================] - 0s 2ms/step\n",
      "comm_round: 56 | global_acc: 96.429% | global_loss: 1.524754285812378\n",
      "132/132 [==============================] - 0s 3ms/step\n",
      "comm_round: 57 | global_acc: 96.429% | global_loss: 1.5243563652038574\n",
      "132/132 [==============================] - 0s 3ms/step\n",
      "comm_round: 58 | global_acc: 96.429% | global_loss: 1.5239473581314087\n",
      "132/132 [==============================] - 0s 3ms/step\n",
      "comm_round: 59 | global_acc: 96.405% | global_loss: 1.523767352104187\n",
      "132/132 [==============================] - 0s 3ms/step\n",
      "comm_round: 60 | global_acc: 96.452% | global_loss: 1.5237444639205933\n",
      "132/132 [==============================] - 0s 2ms/step\n",
      "comm_round: 61 | global_acc: 96.571% | global_loss: 1.523142695426941\n",
      "132/132 [==============================] - 0s 3ms/step\n",
      "comm_round: 62 | global_acc: 96.405% | global_loss: 1.5229932069778442\n",
      "132/132 [==============================] - 0s 2ms/step\n",
      "comm_round: 63 | global_acc: 96.476% | global_loss: 1.5225958824157715\n",
      "132/132 [==============================] - 0s 2ms/step\n",
      "comm_round: 64 | global_acc: 96.548% | global_loss: 1.522477626800537\n",
      "132/132 [==============================] - 0s 3ms/step\n",
      "comm_round: 65 | global_acc: 96.643% | global_loss: 1.5221350193023682\n",
      "132/132 [==============================] - 0s 3ms/step\n",
      "comm_round: 66 | global_acc: 96.548% | global_loss: 1.521845817565918\n",
      "132/132 [==============================] - 0s 3ms/step\n",
      "comm_round: 67 | global_acc: 96.571% | global_loss: 1.5217921733856201\n",
      "132/132 [==============================] - 0s 3ms/step\n",
      "comm_round: 68 | global_acc: 96.690% | global_loss: 1.5214011669158936\n",
      "132/132 [==============================] - 0s 2ms/step\n",
      "comm_round: 69 | global_acc: 96.619% | global_loss: 1.5211244821548462\n",
      "132/132 [==============================] - 0s 3ms/step\n",
      "comm_round: 70 | global_acc: 96.571% | global_loss: 1.5208808183670044\n",
      "132/132 [==============================] - 0s 3ms/step\n",
      "comm_round: 71 | global_acc: 96.667% | global_loss: 1.520797610282898\n",
      "132/132 [==============================] - 0s 3ms/step\n",
      "comm_round: 72 | global_acc: 96.690% | global_loss: 1.5205491781234741\n",
      "132/132 [==============================] - 0s 3ms/step\n",
      "comm_round: 73 | global_acc: 96.643% | global_loss: 1.5203608274459839\n",
      "132/132 [==============================] - 0s 2ms/step\n",
      "comm_round: 74 | global_acc: 96.714% | global_loss: 1.5202566385269165\n",
      "132/132 [==============================] - 0s 2ms/step\n",
      "comm_round: 75 | global_acc: 96.690% | global_loss: 1.519896149635315\n",
      "132/132 [==============================] - 0s 3ms/step\n",
      "comm_round: 76 | global_acc: 96.667% | global_loss: 1.519724726676941\n",
      "132/132 [==============================] - 0s 2ms/step\n",
      "comm_round: 77 | global_acc: 96.738% | global_loss: 1.5196044445037842\n",
      "132/132 [==============================] - 0s 2ms/step\n",
      "comm_round: 78 | global_acc: 96.762% | global_loss: 1.5193451642990112\n",
      "132/132 [==============================] - 0s 3ms/step\n",
      "comm_round: 79 | global_acc: 96.786% | global_loss: 1.5190809965133667\n",
      "132/132 [==============================] - 0s 2ms/step\n",
      "comm_round: 80 | global_acc: 96.762% | global_loss: 1.5189343690872192\n",
      "132/132 [==============================] - 0s 3ms/step\n",
      "comm_round: 81 | global_acc: 96.786% | global_loss: 1.518736481666565\n",
      "132/132 [==============================] - 0s 3ms/step\n",
      "comm_round: 82 | global_acc: 96.738% | global_loss: 1.5183924436569214\n",
      "132/132 [==============================] - 0s 3ms/step\n",
      "comm_round: 83 | global_acc: 96.762% | global_loss: 1.5184563398361206\n",
      "132/132 [==============================] - 0s 3ms/step\n",
      "comm_round: 84 | global_acc: 96.810% | global_loss: 1.5183602571487427\n",
      "132/132 [==============================] - 0s 2ms/step\n",
      "comm_round: 85 | global_acc: 96.762% | global_loss: 1.5180717706680298\n",
      "132/132 [==============================] - 0s 3ms/step\n",
      "comm_round: 86 | global_acc: 96.833% | global_loss: 1.517866849899292\n",
      "132/132 [==============================] - 0s 2ms/step\n",
      "comm_round: 87 | global_acc: 96.833% | global_loss: 1.5177831649780273\n",
      "132/132 [==============================] - 0s 3ms/step\n",
      "comm_round: 88 | global_acc: 96.881% | global_loss: 1.517659068107605\n",
      "132/132 [==============================] - 0s 3ms/step\n",
      "comm_round: 89 | global_acc: 96.857% | global_loss: 1.5174553394317627\n",
      "132/132 [==============================] - 0s 3ms/step\n",
      "comm_round: 90 | global_acc: 96.857% | global_loss: 1.5173183679580688\n",
      "132/132 [==============================] - 0s 3ms/step\n",
      "comm_round: 91 | global_acc: 96.929% | global_loss: 1.5171895027160645\n",
      "132/132 [==============================] - 0s 2ms/step\n",
      "comm_round: 92 | global_acc: 96.905% | global_loss: 1.5170390605926514\n",
      "132/132 [==============================] - 0s 3ms/step\n",
      "comm_round: 93 | global_acc: 96.881% | global_loss: 1.5168216228485107\n",
      "132/132 [==============================] - 0s 3ms/step\n",
      "comm_round: 94 | global_acc: 96.881% | global_loss: 1.516671061515808\n",
      "132/132 [==============================] - 0s 3ms/step\n",
      "comm_round: 95 | global_acc: 96.952% | global_loss: 1.5164557695388794\n",
      "132/132 [==============================] - 0s 2ms/step\n",
      "comm_round: 96 | global_acc: 96.905% | global_loss: 1.5163509845733643\n",
      "132/132 [==============================] - 0s 2ms/step\n",
      "comm_round: 97 | global_acc: 96.952% | global_loss: 1.5162252187728882\n",
      "132/132 [==============================] - 0s 2ms/step\n",
      "comm_round: 98 | global_acc: 96.952% | global_loss: 1.5161402225494385\n",
      "132/132 [==============================] - 0s 2ms/step\n",
      "comm_round: 99 | global_acc: 96.952% | global_loss: 1.5159804821014404\n",
      "132/132 [==============================] - 0s 3ms/step\n",
      "comm_round: 100 | global_acc: 96.952% | global_loss: 1.5159107446670532\n"
     ]
    }
   ],
   "source": [
    "accuracies25 = fedML(0.25, 9)"
   ]
  },
  {
   "cell_type": "code",
   "execution_count": 52,
   "metadata": {},
   "outputs": [],
   "source": [
    "np.savetxt(\"./output/rlnc/Cmax3/acc25.csv\", accuracies25, delimiter=\",\")"
   ]
  },
  {
   "cell_type": "code",
   "execution_count": 56,
   "metadata": {},
   "outputs": [
    {
     "data": {
      "image/png": "[encoded data removed]",
      "text/plain": [
       "<Figure size 640x480 with 1 Axes>"
      ]
     },
     "metadata": {},
     "output_type": "display_data"
    }
   ],
   "source": [
    "import pandas as pd\n",
    "\n",
    "ideal = pd.read_csv('./output/mds/acc0.csv', header=None)\n",
    "mds = pd.read_csv('./output/mds/acc25.csv', header=None)\n",
    "rlnc2 = pd.read_csv('./output/rlnc/Cmax2/acc25.csv', header=None)\n",
    "rlnc3 = pd.read_csv('./output/rlnc/Cmax3/acc25.csv', header=None)\n",
    "\n",
    "plt.plot(ideal, label='Ideal')\n",
    "plt.plot(mds, label='MDS')\n",
    "plt.plot(rlnc2, label='RLNC Cmax=2')\n",
    "plt.plot(rlnc3, label='RLNC Cmax=3')\n",
    "plt.legend()\n",
    "plt.xlabel('Communication round')\n",
    "plt.ylabel('Accuracy')\n",
    "plt.title('26.17% Probability of more than one link failure')\n",
    "plt.ylim(0.65, 1)\n",
    "plt.show()"
   ]
  },
  {
   "cell_type": "code",
   "execution_count": 57,
   "metadata": {},
   "outputs": [
    {
     "data": {
      "image/png": "[encoded data removed]",
      "text/plain": [
       "<Figure size 640x480 with 1 Axes>"
      ]
     },
     "metadata": {},
     "output_type": "display_data"
    }
   ],
   "source": [
    "ideal = pd.read_csv('./output/mds/acc0.csv', header=None)\n",
    "mds = pd.read_csv('./output/mds/acc50.csv', header=None)\n",
    "rlnc2 = pd.read_csv('./output/rlnc/Cmax2/acc50.csv', header=None)\n",
    "rlnc3 = pd.read_csv('./output/rlnc/Cmax3/acc50.csv', header=None)\n",
    "\n",
    "plt.plot(ideal, label='Ideal')\n",
    "plt.plot(mds, label='MDS')\n",
    "plt.plot(rlnc2, label='RLNC Cmax=2')\n",
    "plt.plot(rlnc3, label='RLNC Cmax=3')\n",
    "plt.legend()\n",
    "plt.xlabel('Communication round')\n",
    "plt.ylabel('Accuracy')\n",
    "plt.title('68.75% Probability of more than one link failure')\n",
    "plt.ylim(0.65, 1)\n",
    "plt.show()"
   ]
  }
 ],
 "metadata": {
  "kernelspec": {
   "display_name": "Python 3",
   "language": "python",
   "name": "python3"
  },
  "language_info": {
   "codemirror_mode": {
    "name": "ipython",
    "version": 3
   },
   "file_extension": ".py",
   "mimetype": "text/x-python",
   "name": "python",
   "nbconvert_exporter": "python",
   "pygments_lexer": "ipython3",
   "version": "3.10.10"
  },
  "orig_nbformat": 4,
  "vscode": {
   "interpreter": {
    "hash": "a35bf13b97148589d342a45d495f7a518789f6a66d3c54eecac9b61e53c58857"
   }
  }
 },
 "nbformat": 4,
 "nbformat_minor": 2
}
