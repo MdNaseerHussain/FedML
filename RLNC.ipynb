{
 "cells": [
  {
   "cell_type": "markdown",
   "metadata": {},
   "source": [
    "# Federated ML\n",
    "## Contents\n",
    "1. Introduction\n",
    "1. Reading an image from the dataset\n",
    "1. Loading Images and Labels\n",
    "1. Splitting training and testing data\n",
    "1. Creating clients\n",
    "1. Creating helper nodes\n",
    "1. Batching clients' and test data\n",
    "1. Creating an MLP model\n",
    "1. Optimizer, Loss function and Metrics to compile the model\n",
    "1. Utility functions for the Federated Averaging\n",
    "1. Functions to fetch and set shape of model weights\n",
    "1. Modulation and Demodulation functions for Communication\n",
    "1. Transmission functions from Client to Helper and Helper to Master\n",
    "1. Model test function\n",
    "1. Federated Averaging Algorithm"
   ]
  },
  {
   "attachments": {},
   "cell_type": "markdown",
   "metadata": {},
   "source": [
    "## Introduction\n",
    "In this notebook, we have implemented a working Federated ML model. The goal is to simulate packet losses in communication between the server and the clients in the Federated Averaging Algorithm. The function once implemented will be added to the algorithm near the TODO's in the code."
   ]
  },
  {
   "cell_type": "markdown",
   "metadata": {},
   "source": [
    "Reading an image from the dataset"
   ]
  },
  {
   "cell_type": "code",
   "execution_count": 16,
   "metadata": {},
   "outputs": [
    {
     "data": {
      "text/plain": [
       "Text(0.5, 1.0, 'Image')"
      ]
     },
     "execution_count": 16,
     "metadata": {},
     "output_type": "execute_result"
    },
    {
     "data": {
      "image/png": "[encoded data removed]",
      "text/plain": [
       "<Figure size 640x480 with 1 Axes>"
      ]
     },
     "metadata": {},
     "output_type": "display_data"
    }
   ],
   "source": [
    "import cv2\n",
    "import matplotlib.pyplot as plt\n",
    "image = cv2.imread(\"datasets/numbers/trainingSet/0/img_1.jpg\")\n",
    "plt.imshow(image)\n",
    "plt.title(\"Image\")"
   ]
  },
  {
   "cell_type": "markdown",
   "metadata": {},
   "source": [
    "Loading Images and Labels"
   ]
  },
  {
   "cell_type": "code",
   "execution_count": 17,
   "metadata": {},
   "outputs": [
    {
     "name": "stdout",
     "output_type": "stream",
     "text": [
      "[INFO] Processed 1/10\n",
      "[INFO] Processed 2/10\n",
      "[INFO] Processed 3/10\n",
      "[INFO] Processed 4/10\n",
      "[INFO] Processed 5/10\n",
      "[INFO] Processed 6/10\n",
      "[INFO] Processed 7/10\n",
      "[INFO] Processed 8/10\n",
      "[INFO] Processed 9/10\n",
      "[INFO] Processed 10/10\n"
     ]
    }
   ],
   "source": [
    "import os\n",
    "import numpy as np\n",
    "from sklearn.preprocessing import LabelBinarizer\n",
    "dir_path = \"datasets/numbers/trainingSet/\"\n",
    "images = list()\n",
    "labels = list()\n",
    "for number in range(0, 10):\n",
    "    folder = dir_path + str(number)\n",
    "    for image_file in os.listdir(folder):\n",
    "        image_gray = cv2.imread(os.path.join(folder, image_file), cv2.IMREAD_GRAYSCALE)\n",
    "        image = np.array(image_gray).flatten()\n",
    "        images.append(image/255)\n",
    "        labels.append(number)\n",
    "    print(\"[INFO] Processed {}/{}\".format(number + 1, 10))\n",
    "lb = LabelBinarizer()\n",
    "labels = lb.fit_transform(labels)"
   ]
  },
  {
   "cell_type": "markdown",
   "metadata": {},
   "source": [
    "Splitting training and testing data"
   ]
  },
  {
   "cell_type": "code",
   "execution_count": 18,
   "metadata": {},
   "outputs": [],
   "source": [
    "from sklearn.model_selection import train_test_split\n",
    "images_train, images_test, labels_train, labels_test = train_test_split(images, labels, test_size=0.1, random_state=42)"
   ]
  },
  {
   "cell_type": "markdown",
   "metadata": {},
   "source": [
    "Creating clients"
   ]
  },
  {
   "cell_type": "code",
   "execution_count": 19,
   "metadata": {},
   "outputs": [],
   "source": [
    "import random\n",
    "num_clients = 16\n",
    "client_names = [\"client_{}\".format(i + 1) for i in range(num_clients)]\n",
    "data = list(zip(images, labels))\n",
    "random.shuffle(data)\n",
    "size = len(data)//num_clients\n",
    "data_shards = [data[i:i + size] for i in range(0, size*num_clients, size)]\n",
    "clients = {client_names[i]: data_shards[i] for i in range(num_clients)}"
   ]
  },
  {
   "cell_type": "markdown",
   "metadata": {},
   "source": [
    "Creating helper nodes"
   ]
  },
  {
   "cell_type": "code",
   "execution_count": 20,
   "metadata": {},
   "outputs": [],
   "source": [
    "import math\n",
    "num_helpers = math.ceil(math.log2(num_clients))"
   ]
  },
  {
   "cell_type": "markdown",
   "metadata": {},
   "source": [
    "Batching clients' and test data"
   ]
  },
  {
   "cell_type": "code",
   "execution_count": 21,
   "metadata": {},
   "outputs": [],
   "source": [
    "import tensorflow as tf\n",
    "batch_size = 32\n",
    "clients_batched = dict()\n",
    "for (client_name, data_shard) in clients.items():\n",
    "    data, labels = zip(*data_shard)\n",
    "    dataset = tf.data.Dataset.from_tensor_slices((list(data), list(labels)))\n",
    "    clients_batched[client_name] = dataset.shuffle(len(labels)).batch(batch_size)\n",
    "test_batched = tf.data.Dataset.from_tensor_slices((images_test, labels_test)).batch(len(labels_test))"
   ]
  },
  {
   "cell_type": "markdown",
   "metadata": {},
   "source": [
    "Creating the Multi Layer Perception (MLP) model"
   ]
  },
  {
   "cell_type": "code",
   "execution_count": 22,
   "metadata": {},
   "outputs": [],
   "source": [
    "from keras.models import Sequential\n",
    "from keras.layers import Dense, Activation\n",
    "class SimpleMLP:\n",
    "    @staticmethod\n",
    "    def build(shape, classes):\n",
    "        model = Sequential()\n",
    "        model.add(Dense(200, input_shape=(shape,)))\n",
    "        model.add(Activation(\"relu\"))\n",
    "        model.add(Dense(200))\n",
    "        model.add(Activation(\"relu\"))\n",
    "        model.add(Dense(classes))\n",
    "        model.add(Activation(\"softmax\"))\n",
    "        return model"
   ]
  },
  {
   "cell_type": "markdown",
   "metadata": {},
   "source": [
    "Optimizer, Loss function and Metrics to compile the model"
   ]
  },
  {
   "cell_type": "code",
   "execution_count": 23,
   "metadata": {},
   "outputs": [
    {
     "name": "stderr",
     "output_type": "stream",
     "text": [
      "C:\\Users\\mdnaj\\AppData\\Local\\Packages\\PythonSoftwareFoundation.Python.3.10_qbz5n2kfra8p0\\LocalCache\\local-packages\\Python310\\site-packages\\keras\\optimizers\\optimizer_v2\\gradient_descent.py:114: UserWarning: The `lr` argument is deprecated, use `learning_rate` instead.\n",
      "  super().__init__(name, **kwargs)\n"
     ]
    }
   ],
   "source": [
    "from keras.optimizers import SGD\n",
    "lr = 0.01 \n",
    "comms_round = 100\n",
    "loss='categorical_crossentropy'\n",
    "metrics = ['accuracy']\n",
    "optimizer = SGD(lr=lr, decay=lr/comms_round, momentum=0.9)"
   ]
  },
  {
   "cell_type": "markdown",
   "metadata": {},
   "source": [
    "Utility functions for the Federated Averaging"
   ]
  },
  {
   "cell_type": "code",
   "execution_count": 24,
   "metadata": {},
   "outputs": [],
   "source": [
    "def weight_scaling_factor(clients_trn_data, client_name):\n",
    "    client_names = list(clients_trn_data.keys())\n",
    "    bs = list(clients_trn_data[client_name])[0][0].shape[0]\n",
    "    global_count = sum([tf.data.experimental.cardinality(clients_trn_data[client_name]).numpy() for client_name in client_names])*bs\n",
    "    local_count = tf.data.experimental.cardinality(clients_trn_data[client_name]).numpy()*bs\n",
    "    return local_count/global_count\n",
    "\n",
    "def scale_model_weights(weight, scalar):\n",
    "    weight_final = []\n",
    "    steps = len(weight)\n",
    "    for i in range(steps):\n",
    "        weight_final.append(scalar * weight[i])\n",
    "    return weight_final\n",
    "\n",
    "def sum_scaled_weights(scaled_weight_list):\n",
    "    avg_grad = list()\n",
    "    for grad_list_tuple in zip(*scaled_weight_list):\n",
    "        layer_mean = tf.math.reduce_sum(grad_list_tuple, axis=0)\n",
    "        avg_grad.append(layer_mean)\n",
    "    return avg_grad"
   ]
  },
  {
   "cell_type": "markdown",
   "metadata": {},
   "source": [
    "Functions to fetch and set shape of model weights"
   ]
  },
  {
   "cell_type": "code",
   "execution_count": 25,
   "metadata": {},
   "outputs": [],
   "source": [
    "def get_shape(weights):\n",
    "    shapes = [i.shape for i in weights]\n",
    "    return shapes\n",
    "\n",
    "def flatten_model_weights(weights):\n",
    "    flattened_weights = np.concatenate([i.flatten() for i in weights])\n",
    "    return flattened_weights\n",
    "\n",
    "def restore_model_shape(flattened_weights, shapes):\n",
    "    weights = []\n",
    "    index = 0\n",
    "    for shape in shapes:\n",
    "        size = np.product(shape)\n",
    "        arr = np.array(flattened_weights[index : index + size])\n",
    "        weights.append(arr.reshape(shape))\n",
    "        index += size\n",
    "    return weights"
   ]
  },
  {
   "cell_type": "markdown",
   "metadata": {},
   "source": [
    "Modulation and Demodulation Functions for Communication"
   ]
  },
  {
   "cell_type": "code",
   "execution_count": 26,
   "metadata": {},
   "outputs": [],
   "source": [
    "from bitstring import BitArray\n",
    "\n",
    "def modulation(weights):\n",
    "    weights = flatten_model_weights(weights)\n",
    "    packets = []\n",
    "    for i in range(len(weights)):\n",
    "        packet = BitArray(float=weights[i], length=32)\n",
    "        packets.append(packet.bin)\n",
    "    return packets\n",
    "\n",
    "def demodulation(weights, model_shape):\n",
    "    return restore_model_shape(weights, model_shape)"
   ]
  },
  {
   "cell_type": "markdown",
   "metadata": {},
   "source": [
    "Transmission functions from Client to Helper and Helper to Master"
   ]
  },
  {
   "cell_type": "code",
   "execution_count": 27,
   "metadata": {},
   "outputs": [],
   "source": [
    "import random\n",
    "\n",
    "scaled_weights_list = []\n",
    "comm_matrix = []\n",
    "\n",
    "def create_comm_matrix(num_clients, num_helpers):\n",
    "    scaled_weights_list.clear()\n",
    "    comm_matrix.clear()\n",
    "    for i in range(num_clients):\n",
    "        comm_matrix.append([])\n",
    "        for j in range(num_helpers):\n",
    "            comm_matrix[i].append(0)\n",
    "    return comm_matrix\n",
    "\n",
    "def transmissionCH(C_ch, comm_matrix, client, packet_loss_prob):\n",
    "    succesfully_transmitted = 0\n",
    "    for i in range(len(comm_matrix[client])):\n",
    "        C_ch += 1/3\n",
    "        if random.random() > packet_loss_prob:\n",
    "            comm_matrix[client][i] = 1\n",
    "            succesfully_transmitted += 1\n",
    "    while succesfully_transmitted < 3 and C_ch < 3:\n",
    "        C_ch += 1/3\n",
    "        if random.random() > packet_loss_prob:\n",
    "            comm_matrix[client].append(1)\n",
    "            succesfully_transmitted += 1\n",
    "        else:\n",
    "            comm_matrix[client].append(0)\n",
    "    return comm_matrix, C_ch\n",
    "    \n",
    "def transmissionHM(comm_matrix):\n",
    "    C_hm = 0\n",
    "    comm_links = {}\n",
    "    for i in range(len(comm_matrix)):\n",
    "        if comm_matrix[i].count(1) < 3:\n",
    "            continue\n",
    "        elif len(comm_matrix[i]) > 4:\n",
    "            C_hm += 1/3\n",
    "        else:\n",
    "            mask = ''\n",
    "            for j in range(len(comm_matrix[i])):\n",
    "                mask += str(comm_matrix[i][j])\n",
    "            if mask in comm_links:\n",
    "                comm_links[mask].append(i)\n",
    "            else:\n",
    "                comm_links[mask] = [i]\n",
    "    for _ in comm_links:\n",
    "        C_hm += 1/3\n",
    "    return C_hm"
   ]
  },
  {
   "cell_type": "markdown",
   "metadata": {},
   "source": [
    "Model test function"
   ]
  },
  {
   "cell_type": "code",
   "execution_count": 28,
   "metadata": {},
   "outputs": [],
   "source": [
    "from keras.losses import CategoricalCrossentropy\n",
    "from sklearn.metrics import accuracy_score\n",
    "def test_model(X_test, Y_test,  model, comm_round):\n",
    "    cce = CategoricalCrossentropy(from_logits=True)\n",
    "    logits = model.predict(X_test)\n",
    "    loss = cce(Y_test, logits)\n",
    "    acc = accuracy_score(tf.argmax(logits, axis=1), tf.argmax(Y_test, axis=1))\n",
    "    print('comm_round: {} | global_acc: {:.3%} | global_loss: {}'.format(comm_round+1, acc, loss))\n",
    "    return acc, loss"
   ]
  },
  {
   "cell_type": "markdown",
   "metadata": {},
   "source": [
    "Federated Averaging Algorithm"
   ]
  },
  {
   "cell_type": "code",
   "execution_count": 29,
   "metadata": {},
   "outputs": [],
   "source": [
    "from keras import backend as K\n",
    "def fedML(packet_loss_prob=0):\n",
    "    smlp_global = SimpleMLP()\n",
    "    global_model = smlp_global.build(784, 10)\n",
    "    model_shape = get_shape(global_model.get_weights())\n",
    "    C_CH, C_HM, accuracy = [], [], []\n",
    "    for comm_round in range(comms_round):\n",
    "        global_weights = global_model.get_weights()\n",
    "        client_names= list(clients_batched.keys())\n",
    "        comm_matrix = create_comm_matrix(num_clients, num_helpers)\n",
    "        C_ch, C_hm = 0, 0\n",
    "        random.shuffle(client_names)\n",
    "        lost_clients = 0\n",
    "        for client_number, client in enumerate(client_names):\n",
    "            smlp_local = SimpleMLP()\n",
    "            local_model = smlp_local.build(784, 10)\n",
    "            local_model.compile(loss=loss, optimizer=optimizer, metrics=metrics)\n",
    "            local_model.set_weights(global_weights)\n",
    "            local_model.fit(clients_batched[client], epochs=1, verbose=0)\n",
    "            scaling_factor = weight_scaling_factor(clients_batched, client)\n",
    "            scaled_weights = scale_model_weights(local_model.get_weights(), scaling_factor)\n",
    "            bitWeights = modulation(scaled_weights)\n",
    "            comm_matrix, C_ch = transmissionCH(C_ch, comm_matrix, client_number, packet_loss_prob)\n",
    "            if comm_matrix[client_number].count(1) < 3:\n",
    "                lost_clients += 1\n",
    "            else:\n",
    "                weights = bitWeights\n",
    "                for i in range(len(bitWeights)):\n",
    "                    weights[i] = BitArray(bin=bitWeights[i]).float\n",
    "                scaled_weights_list.append(weights)\n",
    "            K.clear_session()\n",
    "        C_hm = transmissionHM(comm_matrix)\n",
    "        if lost_clients != 0:\n",
    "            compensated_lost_weights = scale_model_weights(global_weights, lost_clients*weight_scaling_factor(clients_batched, 'client_1'))\n",
    "            packets = modulation(compensated_lost_weights)\n",
    "            weights = packets\n",
    "            for i in range(len(packets)):\n",
    "                weights[i] = BitArray(bin=packets[i]).float\n",
    "            scaled_weights_list.append(weights)\n",
    "        global_weights = sum_scaled_weights(scaled_weights_list)\n",
    "        global_weights = demodulation(global_weights, model_shape)\n",
    "        global_model.set_weights(global_weights)\n",
    "        for(X_test, Y_test) in test_batched:\n",
    "            print(comm_matrix)\n",
    "            global_acc, _ = test_model(X_test, Y_test, global_model, comm_round)\n",
    "            accuracy.append(global_acc)\n",
    "        C_CH.append(C_ch / num_clients)\n",
    "        C_HM.append(C_hm / num_helpers)\n",
    "    return accuracy, C_CH, C_HM"
   ]
  },
  {
   "cell_type": "code",
   "execution_count": 30,
   "metadata": {},
   "outputs": [
    {
     "name": "stdout",
     "output_type": "stream",
     "text": [
      "[[1, 1, 1, 1], [1, 1, 1, 1], [1, 1, 1, 1], [1, 1, 1, 1], [1, 1, 1, 1], [1, 1, 1, 1], [0, 1, 1, 1], [1, 1, 1, 1], [1, 1, 0, 0], [1, 0, 1, 1], [1, 1, 1, 1], [0, 1, 1, 1], [1, 1, 1, 0], [0, 1, 1, 1], [1, 1, 1, 1], [1, 1, 1, 1]]\n",
      "132/132 [==============================] - 1s 3ms/step\n",
      "comm_round: 1 | global_acc: 86.714% | global_loss: 1.7489808797836304\n",
      "[[1, 1, 1, 1], [1, 1, 1, 1], [1, 1, 1, 1], [1, 1, 1, 1], [1, 1, 1, 1], [1, 1, 1, 1], [0, 1, 1, 0], [1, 0, 1, 1], [1, 1, 1, 1], [1, 1, 0, 1], [1, 1, 1, 1], [0, 1, 1, 1], [1, 1, 1, 1], [1, 1, 1, 1], [1, 1, 1, 1], [1, 0, 1, 1]]\n",
      "132/132 [==============================] - 0s 3ms/step\n",
      "comm_round: 2 | global_acc: 89.310% | global_loss: 1.651149868965149\n"
     ]
    },
    {
     "ename": "KeyboardInterrupt",
     "evalue": "",
     "output_type": "error",
     "traceback": [
      "\u001b[1;31m---------------------------------------------------------------------------\u001b[0m",
      "\u001b[1;31mKeyboardInterrupt\u001b[0m                         Traceback (most recent call last)",
      "Cell \u001b[1;32mIn[30], line 2\u001b[0m\n\u001b[0;32m      1\u001b[0m \u001b[39m# accuracies0, C_CH0, C_HM0 = fedML(0)\u001b[39;00m\n\u001b[1;32m----> 2\u001b[0m accuracies10, C_CH10, C_HM10 \u001b[39m=\u001b[39m fedML(\u001b[39m0.1\u001b[39;49m)\n\u001b[0;32m      3\u001b[0m \u001b[39m# accuracies25, C_CH25, C_HM25 = fedML(0.25)\u001b[39;00m\n\u001b[0;32m      4\u001b[0m \u001b[39m# accuracies50, C_CH50, C_HM50 = fedML(0.5)\u001b[39;00m\n",
      "Cell \u001b[1;32mIn[29], line 22\u001b[0m, in \u001b[0;36mfedML\u001b[1;34m(packet_loss_prob)\u001b[0m\n\u001b[0;32m     20\u001b[0m scaling_factor \u001b[39m=\u001b[39m weight_scaling_factor(clients_batched, client)\n\u001b[0;32m     21\u001b[0m scaled_weights \u001b[39m=\u001b[39m scale_model_weights(local_model\u001b[39m.\u001b[39mget_weights(), scaling_factor)\n\u001b[1;32m---> 22\u001b[0m bitWeights \u001b[39m=\u001b[39m modulation(scaled_weights)\n\u001b[0;32m     23\u001b[0m comm_matrix, C_ch \u001b[39m=\u001b[39m transmissionCH(C_ch, comm_matrix, client_number, packet_loss_prob)\n\u001b[0;32m     24\u001b[0m \u001b[39mif\u001b[39;00m comm_matrix[client_number]\u001b[39m.\u001b[39mcount(\u001b[39m1\u001b[39m) \u001b[39m<\u001b[39m \u001b[39m3\u001b[39m:\n",
      "Cell \u001b[1;32mIn[26], line 7\u001b[0m, in \u001b[0;36mmodulation\u001b[1;34m(weights)\u001b[0m\n\u001b[0;32m      5\u001b[0m packets \u001b[39m=\u001b[39m []\n\u001b[0;32m      6\u001b[0m \u001b[39mfor\u001b[39;00m i \u001b[39min\u001b[39;00m \u001b[39mrange\u001b[39m(\u001b[39mlen\u001b[39m(weights)):\n\u001b[1;32m----> 7\u001b[0m     packet \u001b[39m=\u001b[39m BitArray(\u001b[39mfloat\u001b[39;49m\u001b[39m=\u001b[39;49mweights[i], length\u001b[39m=\u001b[39;49m\u001b[39m32\u001b[39;49m)\n\u001b[0;32m      8\u001b[0m     packets\u001b[39m.\u001b[39mappend(packet\u001b[39m.\u001b[39mbin)\n\u001b[0;32m      9\u001b[0m \u001b[39mreturn\u001b[39;00m packets\n",
      "File \u001b[1;32m~\\AppData\\Local\\Packages\\PythonSoftwareFoundation.Python.3.10_qbz5n2kfra8p0\\LocalCache\\local-packages\\Python310\\site-packages\\bitstring.py:3457\u001b[0m, in \u001b[0;36mBitArray.__new__\u001b[1;34m(cls, auto, length, offset, **kwargs)\u001b[0m\n\u001b[0;32m   3455\u001b[0m \u001b[39mdef\u001b[39;00m \u001b[39m__new__\u001b[39m(\u001b[39mcls\u001b[39m, auto: Optional[BitsType] \u001b[39m=\u001b[39m \u001b[39mNone\u001b[39;00m, length: Optional[\u001b[39mint\u001b[39m] \u001b[39m=\u001b[39m \u001b[39mNone\u001b[39;00m,\n\u001b[0;32m   3456\u001b[0m             offset: Optional[\u001b[39mint\u001b[39m] \u001b[39m=\u001b[39m \u001b[39mNone\u001b[39;00m, \u001b[39m*\u001b[39m\u001b[39m*\u001b[39mkwargs) \u001b[39m-\u001b[39m\u001b[39m>\u001b[39m Bits:\n\u001b[1;32m-> 3457\u001b[0m     x \u001b[39m=\u001b[39m \u001b[39msuper\u001b[39;49m(BitArray, \u001b[39mcls\u001b[39;49m)\u001b[39m.\u001b[39m\u001b[39m__new__\u001b[39m(\u001b[39mcls\u001b[39m)\n\u001b[0;32m   3458\u001b[0m     y \u001b[39m=\u001b[39m Bits\u001b[39m.\u001b[39m\u001b[39m__new__\u001b[39m(BitArray, auto, length, offset, \u001b[39m*\u001b[39m\u001b[39m*\u001b[39mkwargs)\n\u001b[0;32m   3459\u001b[0m     x\u001b[39m.\u001b[39m_datastore \u001b[39m=\u001b[39m ByteStore(y\u001b[39m.\u001b[39m_datastore\u001b[39m.\u001b[39mrawarray[:],\n\u001b[0;32m   3460\u001b[0m                              y\u001b[39m.\u001b[39m_datastore\u001b[39m.\u001b[39mbitlength,\n\u001b[0;32m   3461\u001b[0m                              y\u001b[39m.\u001b[39m_datastore\u001b[39m.\u001b[39moffset)\n",
      "\u001b[1;31mKeyboardInterrupt\u001b[0m: "
     ]
    }
   ],
   "source": [
    "# accuracies0, C_CH0, C_HM0 = fedML(0)\n",
    "accuracies10, C_CH10, C_HM10 = fedML(0.1)\n",
    "# accuracies25, C_CH25, C_HM25 = fedML(0.25)\n",
    "# accuracies50, C_CH50, C_HM50 = fedML(0.5)"
   ]
  }
 ],
 "metadata": {
  "kernelspec": {
   "display_name": "Python 3",
   "language": "python",
   "name": "python3"
  },
  "language_info": {
   "codemirror_mode": {
    "name": "ipython",
    "version": 3
   },
   "file_extension": ".py",
   "mimetype": "text/x-python",
   "name": "python",
   "nbconvert_exporter": "python",
   "pygments_lexer": "ipython3",
   "version": "3.10.10"
  },
  "orig_nbformat": 4,
  "vscode": {
   "interpreter": {
    "hash": "a35bf13b97148589d342a45d495f7a518789f6a66d3c54eecac9b61e53c58857"
   }
  }
 },
 "nbformat": 4,
 "nbformat_minor": 2
}
