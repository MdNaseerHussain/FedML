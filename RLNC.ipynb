{
 "cells": [
  {
   "cell_type": "markdown",
   "metadata": {},
   "source": [
    "# Federated ML\n",
    "## Contents\n",
    "1. Introduction\n",
    "1. Reading an image from the dataset\n",
    "1. Loading Images and Labels\n",
    "1. Splitting training and testing data\n",
    "1. Creating clients\n",
    "1. Creating helper nodes\n",
    "1. Batching clients' and test data\n",
    "1. Creating an MLP model\n",
    "1. Optimizer, Loss function and Metrics to compile the model\n",
    "1. Utility functions for the Federated Averaging\n",
    "1. Functions to fetch and set shape of model weights\n",
    "1. Modulation and Demodulation functions for Communication\n",
    "1. Transmission functions from Client to Helper and Helper to Master\n",
    "1. Model test function\n",
    "1. Federated Averaging Algorithm"
   ]
  },
  {
   "attachments": {},
   "cell_type": "markdown",
   "metadata": {},
   "source": [
    "## Introduction\n",
    "In this notebook, we have implemented a working Federated ML model. The goal is to simulate packet losses in communication between the server and the clients in the Federated Averaging Algorithm. The function once implemented will be added to the algorithm near the TODO's in the code."
   ]
  },
  {
   "cell_type": "markdown",
   "metadata": {},
   "source": [
    "Reading an image from the dataset"
   ]
  },
  {
   "cell_type": "code",
   "execution_count": 237,
   "metadata": {},
   "outputs": [
    {
     "data": {
      "text/plain": [
       "Text(0.5, 1.0, 'Image')"
      ]
     },
     "execution_count": 237,
     "metadata": {},
     "output_type": "execute_result"
    },
    {
     "data": {
      "image/png": "[encoded data removed]",
      "text/plain": [
       "<Figure size 640x480 with 1 Axes>"
      ]
     },
     "metadata": {},
     "output_type": "display_data"
    }
   ],
   "source": [
    "import cv2\n",
    "import matplotlib.pyplot as plt\n",
    "image = cv2.imread(\"datasets/numbers/trainingSet/0/img_1.jpg\")\n",
    "plt.imshow(image)\n",
    "plt.title(\"Image\")"
   ]
  },
  {
   "cell_type": "markdown",
   "metadata": {},
   "source": [
    "Loading Images and Labels"
   ]
  },
  {
   "cell_type": "code",
   "execution_count": 238,
   "metadata": {},
   "outputs": [
    {
     "name": "stdout",
     "output_type": "stream",
     "text": [
      "[INFO] Processed 1/10\n",
      "[INFO] Processed 2/10\n",
      "[INFO] Processed 3/10\n",
      "[INFO] Processed 4/10\n",
      "[INFO] Processed 5/10\n",
      "[INFO] Processed 6/10\n",
      "[INFO] Processed 7/10\n",
      "[INFO] Processed 8/10\n",
      "[INFO] Processed 9/10\n",
      "[INFO] Processed 10/10\n"
     ]
    }
   ],
   "source": [
    "import os\n",
    "import numpy as np\n",
    "from sklearn.preprocessing import LabelBinarizer\n",
    "dir_path = \"datasets/numbers/trainingSet/\"\n",
    "images = list()\n",
    "labels = list()\n",
    "for number in range(0, 10):\n",
    "    folder = dir_path + str(number)\n",
    "    for image_file in os.listdir(folder):\n",
    "        image_gray = cv2.imread(os.path.join(folder, image_file), cv2.IMREAD_GRAYSCALE)\n",
    "        image = np.array(image_gray).flatten()\n",
    "        images.append(image/255)\n",
    "        labels.append(number)\n",
    "    print(\"[INFO] Processed {}/{}\".format(number + 1, 10))\n",
    "lb = LabelBinarizer()\n",
    "labels = lb.fit_transform(labels)"
   ]
  },
  {
   "cell_type": "markdown",
   "metadata": {},
   "source": [
    "Splitting training and testing data"
   ]
  },
  {
   "cell_type": "code",
   "execution_count": 239,
   "metadata": {},
   "outputs": [],
   "source": [
    "from sklearn.model_selection import train_test_split\n",
    "images_train, images_test, labels_train, labels_test = train_test_split(images, labels, test_size=0.1, random_state=42)"
   ]
  },
  {
   "cell_type": "markdown",
   "metadata": {},
   "source": [
    "Creating clients"
   ]
  },
  {
   "cell_type": "code",
   "execution_count": 240,
   "metadata": {},
   "outputs": [],
   "source": [
    "import random\n",
    "num_clients = 16\n",
    "client_names = [\"client_{}\".format(i + 1) for i in range(num_clients)]\n",
    "data = list(zip(images, labels))\n",
    "random.shuffle(data)\n",
    "size = len(data)//num_clients\n",
    "data_shards = [data[i:i + size] for i in range(0, size*num_clients, size)]\n",
    "clients = {client_names[i]: data_shards[i] for i in range(num_clients)}"
   ]
  },
  {
   "cell_type": "markdown",
   "metadata": {},
   "source": [
    "Creating helper nodes"
   ]
  },
  {
   "cell_type": "code",
   "execution_count": 241,
   "metadata": {},
   "outputs": [],
   "source": [
    "import math\n",
    "num_helpers = math.ceil(math.log2(num_clients))"
   ]
  },
  {
   "cell_type": "markdown",
   "metadata": {},
   "source": [
    "Batching clients' and test data"
   ]
  },
  {
   "cell_type": "code",
   "execution_count": 242,
   "metadata": {},
   "outputs": [],
   "source": [
    "import tensorflow as tf\n",
    "batch_size = 32\n",
    "clients_batched = dict()\n",
    "for (client_name, data_shard) in clients.items():\n",
    "    data, labels = zip(*data_shard)\n",
    "    dataset = tf.data.Dataset.from_tensor_slices((list(data), list(labels)))\n",
    "    clients_batched[client_name] = dataset.shuffle(len(labels)).batch(batch_size)\n",
    "test_batched = tf.data.Dataset.from_tensor_slices((images_test, labels_test)).batch(len(labels_test))"
   ]
  },
  {
   "cell_type": "markdown",
   "metadata": {},
   "source": [
    "Creating the Multi Layer Perception (MLP) model"
   ]
  },
  {
   "cell_type": "code",
   "execution_count": 243,
   "metadata": {},
   "outputs": [],
   "source": [
    "from keras.models import Sequential\n",
    "from keras.layers import Dense, Activation\n",
    "class SimpleMLP:\n",
    "    @staticmethod\n",
    "    def build(shape, classes):\n",
    "        model = Sequential()\n",
    "        model.add(Dense(200, input_shape=(shape,)))\n",
    "        model.add(Activation(\"relu\"))\n",
    "        model.add(Dense(200))\n",
    "        model.add(Activation(\"relu\"))\n",
    "        model.add(Dense(classes))\n",
    "        model.add(Activation(\"softmax\"))\n",
    "        return model"
   ]
  },
  {
   "cell_type": "markdown",
   "metadata": {},
   "source": [
    "Optimizer, Loss function and Metrics to compile the model"
   ]
  },
  {
   "cell_type": "code",
   "execution_count": 244,
   "metadata": {},
   "outputs": [
    {
     "name": "stderr",
     "output_type": "stream",
     "text": [
      "C:\\Users\\mdnaj\\AppData\\Local\\Packages\\PythonSoftwareFoundation.Python.3.10_qbz5n2kfra8p0\\LocalCache\\local-packages\\Python310\\site-packages\\keras\\optimizers\\optimizer_v2\\gradient_descent.py:114: UserWarning: The `lr` argument is deprecated, use `learning_rate` instead.\n",
      "  super().__init__(name, **kwargs)\n"
     ]
    }
   ],
   "source": [
    "from keras.optimizers import SGD\n",
    "lr = 0.01 \n",
    "comms_round = 100\n",
    "loss='categorical_crossentropy'\n",
    "metrics = ['accuracy']\n",
    "optimizer = SGD(lr=lr, decay=lr/comms_round, momentum=0.9)"
   ]
  },
  {
   "cell_type": "markdown",
   "metadata": {},
   "source": [
    "Utility functions for the Federated Averaging"
   ]
  },
  {
   "cell_type": "code",
   "execution_count": 245,
   "metadata": {},
   "outputs": [],
   "source": [
    "def weight_scaling_factor(clients_trn_data, client_name):\n",
    "    client_names = list(clients_trn_data.keys())\n",
    "    bs = list(clients_trn_data[client_name])[0][0].shape[0]\n",
    "    global_count = sum([tf.data.experimental.cardinality(clients_trn_data[client_name]).numpy() for client_name in client_names])*bs\n",
    "    local_count = tf.data.experimental.cardinality(clients_trn_data[client_name]).numpy()*bs\n",
    "    return local_count/global_count\n",
    "\n",
    "def scale_model_weights(weight, scalar):\n",
    "    weight_final = []\n",
    "    steps = len(weight)\n",
    "    for i in range(steps):\n",
    "        weight_final.append(scalar * weight[i])\n",
    "    return weight_final\n",
    "\n",
    "def sum_scaled_weights(scaled_weight_list):\n",
    "    avg_grad = list()\n",
    "    for grad_list_tuple in zip(*scaled_weight_list):\n",
    "        layer_mean = tf.math.reduce_sum(grad_list_tuple, axis=0)\n",
    "        avg_grad.append(layer_mean)\n",
    "    return avg_grad"
   ]
  },
  {
   "cell_type": "markdown",
   "metadata": {},
   "source": [
    "Functions to fetch and set shape of model weights"
   ]
  },
  {
   "cell_type": "code",
   "execution_count": 246,
   "metadata": {},
   "outputs": [],
   "source": [
    "def get_shape(weights):\n",
    "    shapes = [i.shape for i in weights]\n",
    "    return shapes\n",
    "\n",
    "def flatten_model_weights(weights):\n",
    "    flattened_weights = np.concatenate([i.flatten() for i in weights])\n",
    "    return flattened_weights\n",
    "\n",
    "def restore_model_shape(flattened_weights, shapes):\n",
    "    weights = []\n",
    "    index = 0\n",
    "    for shape in shapes:\n",
    "        size = np.product(shape)\n",
    "        arr = np.array(flattened_weights[index : index + size])\n",
    "        weights.append(arr.reshape(shape))\n",
    "        index += size\n",
    "    return weights"
   ]
  },
  {
   "cell_type": "markdown",
   "metadata": {},
   "source": [
    "Modulation and Demodulation Functions for Communication"
   ]
  },
  {
   "cell_type": "code",
   "execution_count": 247,
   "metadata": {},
   "outputs": [],
   "source": [
    "from bitstring import BitArray\n",
    "\n",
    "def modulation(weights):\n",
    "    weights = flatten_model_weights(weights)\n",
    "    packets = []\n",
    "    for i in range(len(weights)):\n",
    "        packet = BitArray(float=weights[i], length=32)\n",
    "        packets.append(packet.bin)\n",
    "    return packets\n",
    "\n",
    "def demodulation(weights, model_shape):\n",
    "    return restore_model_shape(weights, model_shape)"
   ]
  },
  {
   "cell_type": "markdown",
   "metadata": {},
   "source": [
    "Transmission functions from Client to Helper and Helper to Master"
   ]
  },
  {
   "cell_type": "code",
   "execution_count": 265,
   "metadata": {},
   "outputs": [],
   "source": [
    "import random\n",
    "\n",
    "def calculateDecodingProbability(n):\n",
    "    if n < 3:\n",
    "        return 0\n",
    "    k, q = 3, 2**8\n",
    "    num, den = 1, 1\n",
    "    for i in range(0, k):\n",
    "        num *= (1 - q**(i - n))\n",
    "        den *= (1 - q**(i - n + 1))\n",
    "    return 1 - (1 - num)/(1 - den)\n",
    "\n",
    "def transmissionCH(packet_loss_prob):\n",
    "    succesfully_transmitted = 0\n",
    "    transmissions = []\n",
    "    transmissionCnt = 0\n",
    "    for i in range(4):\n",
    "        transmissionCnt += 1\n",
    "        if random.random() > packet_loss_prob:\n",
    "            transmissions.append(1)\n",
    "            succesfully_transmitted += 1\n",
    "        else:\n",
    "            transmissions.append(0)\n",
    "    if succesfully_transmitted >= 3:\n",
    "        return transmissions, True\n",
    "    while transmissionCnt < 9:\n",
    "        transmissionCnt += 1\n",
    "        if random.random() > packet_loss_prob:\n",
    "            transmissions.append(1)\n",
    "            succesfully_transmitted += 1\n",
    "        else:\n",
    "            transmissions.append(0)\n",
    "        probability_success = calculateDecodingProbability(succesfully_transmitted)\n",
    "        if random.random() < probability_success:\n",
    "            return transmissions, True\n",
    "    return transmissions, False"
   ]
  },
  {
   "cell_type": "markdown",
   "metadata": {},
   "source": [
    "Model test function"
   ]
  },
  {
   "cell_type": "code",
   "execution_count": 266,
   "metadata": {},
   "outputs": [],
   "source": [
    "from keras.losses import CategoricalCrossentropy\n",
    "from sklearn.metrics import accuracy_score\n",
    "def test_model(X_test, Y_test,  model, comm_round):\n",
    "    cce = CategoricalCrossentropy(from_logits=True)\n",
    "    logits = model.predict(X_test)\n",
    "    loss = cce(Y_test, logits)\n",
    "    acc = accuracy_score(tf.argmax(logits, axis=1), tf.argmax(Y_test, axis=1))\n",
    "    print('comm_round: {} | global_acc: {:.3%} | global_loss: {}'.format(comm_round+1, acc, loss))\n",
    "    return acc, loss"
   ]
  },
  {
   "cell_type": "markdown",
   "metadata": {},
   "source": [
    "Federated Averaging Algorithm"
   ]
  },
  {
   "cell_type": "code",
   "execution_count": 267,
   "metadata": {},
   "outputs": [],
   "source": [
    "from keras import backend as K\n",
    "def fedML(packet_loss_prob=0):\n",
    "    smlp_global = SimpleMLP()\n",
    "    global_model = smlp_global.build(784, 10)\n",
    "    model_shape = get_shape(global_model.get_weights())\n",
    "    accuracy = []\n",
    "    for comm_round in range(comms_round):\n",
    "        global_weights = global_model.get_weights()\n",
    "        client_names= list(clients_batched.keys())\n",
    "        scaled_weights_list = []\n",
    "        comm_matrix = []\n",
    "        random.shuffle(client_names)\n",
    "        lost_clients = 0\n",
    "        for client_number, client in enumerate(client_names):\n",
    "            smlp_local = SimpleMLP()\n",
    "            local_model = smlp_local.build(784, 10)\n",
    "            local_model.compile(loss=loss, optimizer=optimizer, metrics=metrics)\n",
    "            local_model.set_weights(global_weights)\n",
    "            local_model.fit(clients_batched[client], epochs=1, verbose=0)\n",
    "            scaling_factor = weight_scaling_factor(clients_batched, client)\n",
    "            scaled_weights = scale_model_weights(local_model.get_weights(), scaling_factor)\n",
    "            bitWeights = modulation(scaled_weights)\n",
    "            transmissions, decodable = transmissionCH(packet_loss_prob)\n",
    "            comm_matrix.append(transmissions)\n",
    "            if not decodable:\n",
    "                lost_clients += 1\n",
    "            else:\n",
    "                weights = bitWeights\n",
    "                for i in range(len(bitWeights)):\n",
    "                    weights[i] = BitArray(bin=bitWeights[i]).float\n",
    "                scaled_weights_list.append(weights)\n",
    "            K.clear_session()\n",
    "        if lost_clients != 0:\n",
    "            compensated_lost_weights = scale_model_weights(global_weights, lost_clients*weight_scaling_factor(clients_batched, 'client_1'))\n",
    "            packets = modulation(compensated_lost_weights)\n",
    "            weights = packets\n",
    "            for i in range(len(packets)):\n",
    "                weights[i] = BitArray(bin=packets[i]).float\n",
    "            scaled_weights_list.append(weights)\n",
    "        global_weights = sum_scaled_weights(scaled_weights_list)\n",
    "        global_weights = demodulation(global_weights, model_shape)\n",
    "        global_model.set_weights(global_weights)\n",
    "        with open('output/rlnc/Cmax3//comm_matrix50.txt', 'a') as f:\n",
    "            f.write('Round ' + str(comm_round) + ': ' + str(comm_matrix) + '\\n')\n",
    "        for(X_test, Y_test) in test_batched:\n",
    "            global_acc, _ = test_model(X_test, Y_test, global_model, comm_round)\n",
    "            accuracy.append(global_acc)\n",
    "    return accuracy"
   ]
  },
  {
   "cell_type": "code",
   "execution_count": 268,
   "metadata": {},
   "outputs": [
    {
     "name": "stdout",
     "output_type": "stream",
     "text": [
      "132/132 [==============================] - 0s 3ms/step\n",
      "comm_round: 1 | global_acc: 83.952% | global_loss: 1.8345142602920532\n",
      "132/132 [==============================] - 0s 2ms/step\n",
      "comm_round: 2 | global_acc: 88.881% | global_loss: 1.6924397945404053\n",
      "132/132 [==============================] - 0s 3ms/step\n",
      "comm_round: 3 | global_acc: 89.619% | global_loss: 1.6469080448150635\n",
      "132/132 [==============================] - 0s 3ms/step\n",
      "comm_round: 4 | global_acc: 90.905% | global_loss: 1.6239206790924072\n",
      "132/132 [==============================] - 0s 3ms/step\n",
      "comm_round: 5 | global_acc: 91.357% | global_loss: 1.6108942031860352\n",
      "132/132 [==============================] - 0s 3ms/step\n",
      "comm_round: 6 | global_acc: 91.976% | global_loss: 1.6019866466522217\n",
      "132/132 [==============================] - 0s 3ms/step\n",
      "comm_round: 7 | global_acc: 92.262% | global_loss: 1.5960588455200195\n",
      "132/132 [==============================] - 0s 3ms/step\n",
      "comm_round: 8 | global_acc: 92.333% | global_loss: 1.591629981994629\n",
      "132/132 [==============================] - 0s 2ms/step\n",
      "comm_round: 9 | global_acc: 92.810% | global_loss: 1.5860493183135986\n",
      "132/132 [==============================] - 0s 3ms/step\n",
      "comm_round: 10 | global_acc: 93.071% | global_loss: 1.5822927951812744\n",
      "132/132 [==============================] - 0s 3ms/step\n",
      "comm_round: 11 | global_acc: 93.143% | global_loss: 1.5791492462158203\n",
      "132/132 [==============================] - 0s 3ms/step\n",
      "comm_round: 12 | global_acc: 93.357% | global_loss: 1.5759918689727783\n",
      "132/132 [==============================] - 1s 4ms/step\n",
      "comm_round: 13 | global_acc: 93.690% | global_loss: 1.5729625225067139\n",
      "132/132 [==============================] - 0s 3ms/step\n",
      "comm_round: 14 | global_acc: 93.857% | global_loss: 1.5705965757369995\n",
      "132/132 [==============================] - 0s 3ms/step\n",
      "comm_round: 15 | global_acc: 93.929% | global_loss: 1.5684231519699097\n",
      "132/132 [==============================] - 1s 4ms/step\n",
      "comm_round: 16 | global_acc: 94.048% | global_loss: 1.5661213397979736\n",
      "132/132 [==============================] - 1s 4ms/step\n",
      "comm_round: 17 | global_acc: 94.143% | global_loss: 1.5643513202667236\n",
      "132/132 [==============================] - 0s 3ms/step\n",
      "comm_round: 18 | global_acc: 94.286% | global_loss: 1.5625847578048706\n",
      "132/132 [==============================] - 0s 3ms/step\n",
      "comm_round: 19 | global_acc: 94.262% | global_loss: 1.5613681077957153\n",
      "132/132 [==============================] - 0s 3ms/step\n",
      "comm_round: 20 | global_acc: 94.286% | global_loss: 1.5593780279159546\n",
      "132/132 [==============================] - 0s 3ms/step\n",
      "comm_round: 21 | global_acc: 94.571% | global_loss: 1.5582551956176758\n",
      "132/132 [==============================] - 1s 4ms/step\n",
      "comm_round: 22 | global_acc: 94.500% | global_loss: 1.55637788772583\n",
      "132/132 [==============================] - 1s 3ms/step\n",
      "comm_round: 23 | global_acc: 94.524% | global_loss: 1.555413842201233\n",
      "132/132 [==============================] - 0s 3ms/step\n",
      "comm_round: 24 | global_acc: 94.690% | global_loss: 1.5547816753387451\n",
      "132/132 [==============================] - 0s 3ms/step\n",
      "comm_round: 25 | global_acc: 94.738% | global_loss: 1.5532972812652588\n",
      "132/132 [==============================] - 0s 3ms/step\n",
      "comm_round: 26 | global_acc: 94.738% | global_loss: 1.5522665977478027\n",
      "132/132 [==============================] - 1s 4ms/step\n",
      "comm_round: 27 | global_acc: 94.762% | global_loss: 1.5511518716812134\n",
      "132/132 [==============================] - 0s 3ms/step\n",
      "comm_round: 28 | global_acc: 94.881% | global_loss: 1.5499740839004517\n",
      "132/132 [==============================] - 0s 3ms/step\n",
      "comm_round: 29 | global_acc: 94.976% | global_loss: 1.549368977546692\n",
      "132/132 [==============================] - 0s 3ms/step\n",
      "comm_round: 30 | global_acc: 94.952% | global_loss: 1.548306941986084\n",
      "132/132 [==============================] - 0s 3ms/step\n",
      "comm_round: 31 | global_acc: 94.976% | global_loss: 1.5475616455078125\n",
      "132/132 [==============================] - 0s 3ms/step\n",
      "comm_round: 32 | global_acc: 95.095% | global_loss: 1.5466545820236206\n",
      "132/132 [==============================] - 0s 3ms/step\n",
      "comm_round: 33 | global_acc: 95.119% | global_loss: 1.546065092086792\n",
      "132/132 [==============================] - 0s 3ms/step\n",
      "comm_round: 34 | global_acc: 95.238% | global_loss: 1.5454500913619995\n",
      "132/132 [==============================] - 0s 3ms/step\n",
      "comm_round: 35 | global_acc: 95.333% | global_loss: 1.5445061922073364\n",
      "132/132 [==============================] - 0s 3ms/step\n",
      "comm_round: 36 | global_acc: 95.357% | global_loss: 1.5440272092819214\n",
      "132/132 [==============================] - 0s 3ms/step\n",
      "comm_round: 37 | global_acc: 95.500% | global_loss: 1.5432486534118652\n",
      "132/132 [==============================] - 0s 3ms/step\n",
      "comm_round: 38 | global_acc: 95.405% | global_loss: 1.542724609375\n",
      "132/132 [==============================] - 1s 3ms/step\n",
      "comm_round: 39 | global_acc: 95.500% | global_loss: 1.541885256767273\n",
      "132/132 [==============================] - 0s 3ms/step\n",
      "comm_round: 40 | global_acc: 95.476% | global_loss: 1.5414190292358398\n",
      "132/132 [==============================] - 0s 3ms/step\n",
      "comm_round: 41 | global_acc: 95.619% | global_loss: 1.5406972169876099\n",
      "132/132 [==============================] - 0s 3ms/step\n",
      "comm_round: 42 | global_acc: 95.571% | global_loss: 1.5401692390441895\n",
      "132/132 [==============================] - 0s 3ms/step\n",
      "comm_round: 43 | global_acc: 95.571% | global_loss: 1.5396517515182495\n",
      "132/132 [==============================] - 1s 4ms/step\n",
      "comm_round: 44 | global_acc: 95.643% | global_loss: 1.5395570993423462\n",
      "132/132 [==============================] - 0s 3ms/step\n",
      "comm_round: 45 | global_acc: 95.714% | global_loss: 1.5386537313461304\n",
      "132/132 [==============================] - 1s 4ms/step\n",
      "comm_round: 46 | global_acc: 95.667% | global_loss: 1.5382664203643799\n",
      "132/132 [==============================] - 0s 2ms/step\n",
      "comm_round: 47 | global_acc: 95.714% | global_loss: 1.5377004146575928\n",
      "132/132 [==============================] - 1s 4ms/step\n",
      "comm_round: 48 | global_acc: 95.738% | global_loss: 1.5372880697250366\n",
      "132/132 [==============================] - 0s 3ms/step\n",
      "comm_round: 49 | global_acc: 95.786% | global_loss: 1.536790132522583\n",
      "132/132 [==============================] - 0s 3ms/step\n",
      "comm_round: 50 | global_acc: 95.833% | global_loss: 1.5363185405731201\n",
      "132/132 [==============================] - 0s 2ms/step\n",
      "comm_round: 51 | global_acc: 95.810% | global_loss: 1.5360496044158936\n",
      "132/132 [==============================] - 1s 4ms/step\n",
      "comm_round: 52 | global_acc: 95.905% | global_loss: 1.5357215404510498\n",
      "132/132 [==============================] - 1s 4ms/step\n",
      "comm_round: 53 | global_acc: 95.857% | global_loss: 1.535203456878662\n",
      "132/132 [==============================] - 0s 3ms/step\n",
      "comm_round: 54 | global_acc: 95.810% | global_loss: 1.534865140914917\n",
      "132/132 [==============================] - 1s 4ms/step\n",
      "comm_round: 55 | global_acc: 95.881% | global_loss: 1.5343379974365234\n",
      "132/132 [==============================] - 1s 4ms/step\n",
      "comm_round: 56 | global_acc: 95.905% | global_loss: 1.5341006517410278\n",
      "132/132 [==============================] - 1s 4ms/step\n",
      "comm_round: 57 | global_acc: 95.857% | global_loss: 1.5336697101593018\n",
      "132/132 [==============================] - 0s 2ms/step\n",
      "comm_round: 58 | global_acc: 96.000% | global_loss: 1.5333530902862549\n",
      "132/132 [==============================] - 0s 3ms/step\n",
      "comm_round: 59 | global_acc: 95.976% | global_loss: 1.5328872203826904\n",
      "132/132 [==============================] - 0s 3ms/step\n",
      "comm_round: 60 | global_acc: 95.976% | global_loss: 1.5326511859893799\n",
      "132/132 [==============================] - 0s 3ms/step\n",
      "comm_round: 61 | global_acc: 95.976% | global_loss: 1.5323970317840576\n",
      "132/132 [==============================] - 0s 3ms/step\n",
      "comm_round: 62 | global_acc: 95.976% | global_loss: 1.5320405960083008\n",
      "132/132 [==============================] - 0s 2ms/step\n",
      "comm_round: 63 | global_acc: 96.048% | global_loss: 1.5315885543823242\n",
      "132/132 [==============================] - 0s 3ms/step\n",
      "comm_round: 64 | global_acc: 96.000% | global_loss: 1.5314608812332153\n",
      "132/132 [==============================] - 0s 3ms/step\n",
      "comm_round: 65 | global_acc: 96.024% | global_loss: 1.531078577041626\n",
      "132/132 [==============================] - 1s 4ms/step\n",
      "comm_round: 66 | global_acc: 96.071% | global_loss: 1.5307382345199585\n",
      "132/132 [==============================] - 0s 3ms/step\n",
      "comm_round: 67 | global_acc: 96.095% | global_loss: 1.530573844909668\n",
      "132/132 [==============================] - 0s 3ms/step\n",
      "comm_round: 68 | global_acc: 96.024% | global_loss: 1.530293345451355\n",
      "132/132 [==============================] - 0s 2ms/step\n",
      "comm_round: 69 | global_acc: 96.095% | global_loss: 1.5299416780471802\n",
      "132/132 [==============================] - 0s 3ms/step\n",
      "comm_round: 70 | global_acc: 96.119% | global_loss: 1.529702067375183\n",
      "132/132 [==============================] - 1s 4ms/step\n",
      "comm_round: 71 | global_acc: 96.095% | global_loss: 1.5294047594070435\n",
      "132/132 [==============================] - 0s 2ms/step\n",
      "comm_round: 72 | global_acc: 96.119% | global_loss: 1.52909255027771\n",
      "132/132 [==============================] - 0s 3ms/step\n",
      "comm_round: 73 | global_acc: 96.167% | global_loss: 1.5290499925613403\n",
      "132/132 [==============================] - 1s 3ms/step\n",
      "comm_round: 74 | global_acc: 96.167% | global_loss: 1.5287902355194092\n",
      "132/132 [==============================] - 0s 3ms/step\n",
      "comm_round: 75 | global_acc: 96.143% | global_loss: 1.528480887413025\n",
      "132/132 [==============================] - 1s 4ms/step\n",
      "comm_round: 76 | global_acc: 96.214% | global_loss: 1.5282496213912964\n",
      "132/132 [==============================] - 0s 3ms/step\n",
      "comm_round: 77 | global_acc: 96.190% | global_loss: 1.5280150175094604\n",
      "132/132 [==============================] - 0s 3ms/step\n",
      "comm_round: 78 | global_acc: 96.238% | global_loss: 1.5276907682418823\n",
      "132/132 [==============================] - 0s 3ms/step\n",
      "comm_round: 79 | global_acc: 96.262% | global_loss: 1.5275439023971558\n",
      "132/132 [==============================] - 0s 2ms/step\n",
      "comm_round: 80 | global_acc: 96.310% | global_loss: 1.5272904634475708\n",
      "132/132 [==============================] - 0s 3ms/step\n",
      "comm_round: 81 | global_acc: 96.238% | global_loss: 1.5270955562591553\n",
      "132/132 [==============================] - 0s 2ms/step\n",
      "comm_round: 82 | global_acc: 96.286% | global_loss: 1.5269336700439453\n",
      "132/132 [==============================] - 0s 2ms/step\n",
      "comm_round: 83 | global_acc: 96.429% | global_loss: 1.5265864133834839\n",
      "132/132 [==============================] - 0s 3ms/step\n",
      "comm_round: 84 | global_acc: 96.381% | global_loss: 1.5264513492584229\n",
      "132/132 [==============================] - 1s 4ms/step\n",
      "comm_round: 85 | global_acc: 96.429% | global_loss: 1.526228666305542\n",
      "132/132 [==============================] - 1s 4ms/step\n",
      "comm_round: 86 | global_acc: 96.333% | global_loss: 1.5260902643203735\n",
      "132/132 [==============================] - 0s 2ms/step\n",
      "comm_round: 87 | global_acc: 96.405% | global_loss: 1.5260998010635376\n",
      "132/132 [==============================] - 0s 3ms/step\n",
      "comm_round: 88 | global_acc: 96.429% | global_loss: 1.5256915092468262\n",
      "132/132 [==============================] - 0s 3ms/step\n",
      "comm_round: 89 | global_acc: 96.476% | global_loss: 1.5252901315689087\n",
      "132/132 [==============================] - 1s 3ms/step\n",
      "comm_round: 90 | global_acc: 96.476% | global_loss: 1.5252039432525635\n",
      "132/132 [==============================] - 0s 3ms/step\n",
      "comm_round: 91 | global_acc: 96.524% | global_loss: 1.525097370147705\n",
      "132/132 [==============================] - 0s 2ms/step\n",
      "comm_round: 92 | global_acc: 96.429% | global_loss: 1.5249898433685303\n",
      "132/132 [==============================] - 1s 4ms/step\n",
      "comm_round: 93 | global_acc: 96.429% | global_loss: 1.5247873067855835\n",
      "132/132 [==============================] - 0s 3ms/step\n",
      "comm_round: 94 | global_acc: 96.524% | global_loss: 1.5246405601501465\n",
      "132/132 [==============================] - 0s 2ms/step\n",
      "comm_round: 95 | global_acc: 96.571% | global_loss: 1.5244147777557373\n",
      "132/132 [==============================] - 0s 3ms/step\n",
      "comm_round: 96 | global_acc: 96.452% | global_loss: 1.5241726636886597\n",
      "132/132 [==============================] - 0s 3ms/step\n",
      "comm_round: 97 | global_acc: 96.452% | global_loss: 1.5239946842193604\n",
      "132/132 [==============================] - 0s 2ms/step\n",
      "comm_round: 98 | global_acc: 96.500% | global_loss: 1.5237826108932495\n",
      "132/132 [==============================] - 0s 3ms/step\n",
      "comm_round: 99 | global_acc: 96.476% | global_loss: 1.5236475467681885\n",
      "132/132 [==============================] - 0s 3ms/step\n",
      "comm_round: 100 | global_acc: 96.571% | global_loss: 1.5233961343765259\n"
     ]
    }
   ],
   "source": [
    "# accuracies0 = fedML(0)\n",
    "# accuracies10 = fedML(0.1)\n",
    "# accuracies25 = fedML(0.25)\n",
    "accuracies50 = fedML(0.5)"
   ]
  },
  {
   "cell_type": "code",
   "execution_count": 274,
   "metadata": {},
   "outputs": [],
   "source": [
    "np.savetxt(\"./output/rlnc/Cmax3/acc50.csv\", accuracies50, delimiter=\",\")"
   ]
  }
 ],
 "metadata": {
  "kernelspec": {
   "display_name": "Python 3",
   "language": "python",
   "name": "python3"
  },
  "language_info": {
   "codemirror_mode": {
    "name": "ipython",
    "version": 3
   },
   "file_extension": ".py",
   "mimetype": "text/x-python",
   "name": "python",
   "nbconvert_exporter": "python",
   "pygments_lexer": "ipython3",
   "version": "3.10.10"
  },
  "orig_nbformat": 4,
  "vscode": {
   "interpreter": {
    "hash": "a35bf13b97148589d342a45d495f7a518789f6a66d3c54eecac9b61e53c58857"
   }
  }
 },
 "nbformat": 4,
 "nbformat_minor": 2
}
